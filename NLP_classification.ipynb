{
  "nbformat": 4,
  "nbformat_minor": 0,
  "metadata": {
    "colab": {
      "provenance": [],
      "authorship_tag": "ABX9TyNE8JxBtP2kBTPNkV2WkvJE",
      "include_colab_link": true
    },
    "kernelspec": {
      "name": "python3",
      "display_name": "Python 3"
    },
    "language_info": {
      "name": "python"
    }
  },
  "cells": [
    {
      "cell_type": "markdown",
      "metadata": {
        "id": "view-in-github",
        "colab_type": "text"
      },
      "source": [
        "<a href=\"https://colab.research.google.com/github/TanViCh0UhAn12/ML/blob/main/NLP_classification.ipynb\" target=\"_parent\"><img src=\"https://colab.research.google.com/assets/colab-badge.svg\" alt=\"Open In Colab\"/></a>"
      ]
    },
    {
      "cell_type": "markdown",
      "source": [
        "**NLP Classification**\n",
        "\n",
        "**Text preprocessing**\n",
        "\n",
        "*1. Importing Library & reading dataset*"
      ],
      "metadata": {
        "id": "y4Dice3cn8xV"
      }
    },
    {
      "cell_type": "code",
      "execution_count": 5,
      "metadata": {
        "id": "9eowEvYqYg32",
        "outputId": "b66b027c-2159-4069-d915-dac2da33bc40",
        "colab": {
          "base_uri": "https://localhost:8080/",
          "height": 206
        }
      },
      "outputs": [
        {
          "output_type": "execute_result",
          "data": {
            "text/plain": [
              "   Unnamed: 0                                               text label\n",
              "0           0  @Pericles216 @HierBeforeTheAC @Sachinettiyil T...  intj\n",
              "1           1  @Hispanthicckk Being you makes you look cute||...  intj\n",
              "2           2  @Alshymi Les balles sont réelles et sont tirée...  intj\n",
              "3           3  I'm like entp but idiotic|||Hey boy, do you wa...  intj\n",
              "4           4  @kaeshurr1 Give it to @ZargarShanif ... He has...  intj"
            ],
            "text/html": [
              "\n",
              "  <div id=\"df-fc9f95af-254f-48e3-a9fb-c1bcbe1194cf\">\n",
              "    <div class=\"colab-df-container\">\n",
              "      <div>\n",
              "<style scoped>\n",
              "    .dataframe tbody tr th:only-of-type {\n",
              "        vertical-align: middle;\n",
              "    }\n",
              "\n",
              "    .dataframe tbody tr th {\n",
              "        vertical-align: top;\n",
              "    }\n",
              "\n",
              "    .dataframe thead th {\n",
              "        text-align: right;\n",
              "    }\n",
              "</style>\n",
              "<table border=\"1\" class=\"dataframe\">\n",
              "  <thead>\n",
              "    <tr style=\"text-align: right;\">\n",
              "      <th></th>\n",
              "      <th>Unnamed: 0</th>\n",
              "      <th>text</th>\n",
              "      <th>label</th>\n",
              "    </tr>\n",
              "  </thead>\n",
              "  <tbody>\n",
              "    <tr>\n",
              "      <th>0</th>\n",
              "      <td>0</td>\n",
              "      <td>@Pericles216 @HierBeforeTheAC @Sachinettiyil T...</td>\n",
              "      <td>intj</td>\n",
              "    </tr>\n",
              "    <tr>\n",
              "      <th>1</th>\n",
              "      <td>1</td>\n",
              "      <td>@Hispanthicckk Being you makes you look cute||...</td>\n",
              "      <td>intj</td>\n",
              "    </tr>\n",
              "    <tr>\n",
              "      <th>2</th>\n",
              "      <td>2</td>\n",
              "      <td>@Alshymi Les balles sont réelles et sont tirée...</td>\n",
              "      <td>intj</td>\n",
              "    </tr>\n",
              "    <tr>\n",
              "      <th>3</th>\n",
              "      <td>3</td>\n",
              "      <td>I'm like entp but idiotic|||Hey boy, do you wa...</td>\n",
              "      <td>intj</td>\n",
              "    </tr>\n",
              "    <tr>\n",
              "      <th>4</th>\n",
              "      <td>4</td>\n",
              "      <td>@kaeshurr1 Give it to @ZargarShanif ... He has...</td>\n",
              "      <td>intj</td>\n",
              "    </tr>\n",
              "  </tbody>\n",
              "</table>\n",
              "</div>\n",
              "      <button class=\"colab-df-convert\" onclick=\"convertToInteractive('df-fc9f95af-254f-48e3-a9fb-c1bcbe1194cf')\"\n",
              "              title=\"Convert this dataframe to an interactive table.\"\n",
              "              style=\"display:none;\">\n",
              "        \n",
              "  <svg xmlns=\"http://www.w3.org/2000/svg\" height=\"24px\"viewBox=\"0 0 24 24\"\n",
              "       width=\"24px\">\n",
              "    <path d=\"M0 0h24v24H0V0z\" fill=\"none\"/>\n",
              "    <path d=\"M18.56 5.44l.94 2.06.94-2.06 2.06-.94-2.06-.94-.94-2.06-.94 2.06-2.06.94zm-11 1L8.5 8.5l.94-2.06 2.06-.94-2.06-.94L8.5 2.5l-.94 2.06-2.06.94zm10 10l.94 2.06.94-2.06 2.06-.94-2.06-.94-.94-2.06-.94 2.06-2.06.94z\"/><path d=\"M17.41 7.96l-1.37-1.37c-.4-.4-.92-.59-1.43-.59-.52 0-1.04.2-1.43.59L10.3 9.45l-7.72 7.72c-.78.78-.78 2.05 0 2.83L4 21.41c.39.39.9.59 1.41.59.51 0 1.02-.2 1.41-.59l7.78-7.78 2.81-2.81c.8-.78.8-2.07 0-2.86zM5.41 20L4 18.59l7.72-7.72 1.47 1.35L5.41 20z\"/>\n",
              "  </svg>\n",
              "      </button>\n",
              "      \n",
              "  <style>\n",
              "    .colab-df-container {\n",
              "      display:flex;\n",
              "      flex-wrap:wrap;\n",
              "      gap: 12px;\n",
              "    }\n",
              "\n",
              "    .colab-df-convert {\n",
              "      background-color: #E8F0FE;\n",
              "      border: none;\n",
              "      border-radius: 50%;\n",
              "      cursor: pointer;\n",
              "      display: none;\n",
              "      fill: #1967D2;\n",
              "      height: 32px;\n",
              "      padding: 0 0 0 0;\n",
              "      width: 32px;\n",
              "    }\n",
              "\n",
              "    .colab-df-convert:hover {\n",
              "      background-color: #E2EBFA;\n",
              "      box-shadow: 0px 1px 2px rgba(60, 64, 67, 0.3), 0px 1px 3px 1px rgba(60, 64, 67, 0.15);\n",
              "      fill: #174EA6;\n",
              "    }\n",
              "\n",
              "    [theme=dark] .colab-df-convert {\n",
              "      background-color: #3B4455;\n",
              "      fill: #D2E3FC;\n",
              "    }\n",
              "\n",
              "    [theme=dark] .colab-df-convert:hover {\n",
              "      background-color: #434B5C;\n",
              "      box-shadow: 0px 1px 3px 1px rgba(0, 0, 0, 0.15);\n",
              "      filter: drop-shadow(0px 1px 2px rgba(0, 0, 0, 0.3));\n",
              "      fill: #FFFFFF;\n",
              "    }\n",
              "  </style>\n",
              "\n",
              "      <script>\n",
              "        const buttonEl =\n",
              "          document.querySelector('#df-fc9f95af-254f-48e3-a9fb-c1bcbe1194cf button.colab-df-convert');\n",
              "        buttonEl.style.display =\n",
              "          google.colab.kernel.accessAllowed ? 'block' : 'none';\n",
              "\n",
              "        async function convertToInteractive(key) {\n",
              "          const element = document.querySelector('#df-fc9f95af-254f-48e3-a9fb-c1bcbe1194cf');\n",
              "          const dataTable =\n",
              "            await google.colab.kernel.invokeFunction('convertToInteractive',\n",
              "                                                     [key], {});\n",
              "          if (!dataTable) return;\n",
              "\n",
              "          const docLinkHtml = 'Like what you see? Visit the ' +\n",
              "            '<a target=\"_blank\" href=https://colab.research.google.com/notebooks/data_table.ipynb>data table notebook</a>'\n",
              "            + ' to learn more about interactive tables.';\n",
              "          element.innerHTML = '';\n",
              "          dataTable['output_type'] = 'display_data';\n",
              "          await google.colab.output.renderOutput(dataTable, element);\n",
              "          const docLink = document.createElement('div');\n",
              "          docLink.innerHTML = docLinkHtml;\n",
              "          element.appendChild(docLink);\n",
              "        }\n",
              "      </script>\n",
              "    </div>\n",
              "  </div>\n",
              "  "
            ]
          },
          "metadata": {},
          "execution_count": 5
        }
      ],
      "source": [
        "import numpy as np\n",
        "import pandas as pd\n",
        "\n",
        "df = pd.read_csv('/content/5 April to 15 April and count....twitter_MBTI.csv')\n",
        "df.head()"
      ]
    },
    {
      "cell_type": "markdown",
      "source": [
        "*2. Analyzing dataset*"
      ],
      "metadata": {
        "id": "pzQdGNQxkEoO"
      }
    },
    {
      "cell_type": "code",
      "source": [
        "df.head()"
      ],
      "metadata": {
        "colab": {
          "base_uri": "https://localhost:8080/",
          "height": 206
        },
        "id": "Gz6VfsZ0ePBn",
        "outputId": "1e7b6320-9088-4101-baba-17efb4fe6d81"
      },
      "execution_count": 6,
      "outputs": [
        {
          "output_type": "execute_result",
          "data": {
            "text/plain": [
              "   Unnamed: 0                                               text label\n",
              "0           0  @Pericles216 @HierBeforeTheAC @Sachinettiyil T...  intj\n",
              "1           1  @Hispanthicckk Being you makes you look cute||...  intj\n",
              "2           2  @Alshymi Les balles sont réelles et sont tirée...  intj\n",
              "3           3  I'm like entp but idiotic|||Hey boy, do you wa...  intj\n",
              "4           4  @kaeshurr1 Give it to @ZargarShanif ... He has...  intj"
            ],
            "text/html": [
              "\n",
              "  <div id=\"df-50192a13-256e-4859-889e-0ac5e3bf1685\">\n",
              "    <div class=\"colab-df-container\">\n",
              "      <div>\n",
              "<style scoped>\n",
              "    .dataframe tbody tr th:only-of-type {\n",
              "        vertical-align: middle;\n",
              "    }\n",
              "\n",
              "    .dataframe tbody tr th {\n",
              "        vertical-align: top;\n",
              "    }\n",
              "\n",
              "    .dataframe thead th {\n",
              "        text-align: right;\n",
              "    }\n",
              "</style>\n",
              "<table border=\"1\" class=\"dataframe\">\n",
              "  <thead>\n",
              "    <tr style=\"text-align: right;\">\n",
              "      <th></th>\n",
              "      <th>Unnamed: 0</th>\n",
              "      <th>text</th>\n",
              "      <th>label</th>\n",
              "    </tr>\n",
              "  </thead>\n",
              "  <tbody>\n",
              "    <tr>\n",
              "      <th>0</th>\n",
              "      <td>0</td>\n",
              "      <td>@Pericles216 @HierBeforeTheAC @Sachinettiyil T...</td>\n",
              "      <td>intj</td>\n",
              "    </tr>\n",
              "    <tr>\n",
              "      <th>1</th>\n",
              "      <td>1</td>\n",
              "      <td>@Hispanthicckk Being you makes you look cute||...</td>\n",
              "      <td>intj</td>\n",
              "    </tr>\n",
              "    <tr>\n",
              "      <th>2</th>\n",
              "      <td>2</td>\n",
              "      <td>@Alshymi Les balles sont réelles et sont tirée...</td>\n",
              "      <td>intj</td>\n",
              "    </tr>\n",
              "    <tr>\n",
              "      <th>3</th>\n",
              "      <td>3</td>\n",
              "      <td>I'm like entp but idiotic|||Hey boy, do you wa...</td>\n",
              "      <td>intj</td>\n",
              "    </tr>\n",
              "    <tr>\n",
              "      <th>4</th>\n",
              "      <td>4</td>\n",
              "      <td>@kaeshurr1 Give it to @ZargarShanif ... He has...</td>\n",
              "      <td>intj</td>\n",
              "    </tr>\n",
              "  </tbody>\n",
              "</table>\n",
              "</div>\n",
              "      <button class=\"colab-df-convert\" onclick=\"convertToInteractive('df-50192a13-256e-4859-889e-0ac5e3bf1685')\"\n",
              "              title=\"Convert this dataframe to an interactive table.\"\n",
              "              style=\"display:none;\">\n",
              "        \n",
              "  <svg xmlns=\"http://www.w3.org/2000/svg\" height=\"24px\"viewBox=\"0 0 24 24\"\n",
              "       width=\"24px\">\n",
              "    <path d=\"M0 0h24v24H0V0z\" fill=\"none\"/>\n",
              "    <path d=\"M18.56 5.44l.94 2.06.94-2.06 2.06-.94-2.06-.94-.94-2.06-.94 2.06-2.06.94zm-11 1L8.5 8.5l.94-2.06 2.06-.94-2.06-.94L8.5 2.5l-.94 2.06-2.06.94zm10 10l.94 2.06.94-2.06 2.06-.94-2.06-.94-.94-2.06-.94 2.06-2.06.94z\"/><path d=\"M17.41 7.96l-1.37-1.37c-.4-.4-.92-.59-1.43-.59-.52 0-1.04.2-1.43.59L10.3 9.45l-7.72 7.72c-.78.78-.78 2.05 0 2.83L4 21.41c.39.39.9.59 1.41.59.51 0 1.02-.2 1.41-.59l7.78-7.78 2.81-2.81c.8-.78.8-2.07 0-2.86zM5.41 20L4 18.59l7.72-7.72 1.47 1.35L5.41 20z\"/>\n",
              "  </svg>\n",
              "      </button>\n",
              "      \n",
              "  <style>\n",
              "    .colab-df-container {\n",
              "      display:flex;\n",
              "      flex-wrap:wrap;\n",
              "      gap: 12px;\n",
              "    }\n",
              "\n",
              "    .colab-df-convert {\n",
              "      background-color: #E8F0FE;\n",
              "      border: none;\n",
              "      border-radius: 50%;\n",
              "      cursor: pointer;\n",
              "      display: none;\n",
              "      fill: #1967D2;\n",
              "      height: 32px;\n",
              "      padding: 0 0 0 0;\n",
              "      width: 32px;\n",
              "    }\n",
              "\n",
              "    .colab-df-convert:hover {\n",
              "      background-color: #E2EBFA;\n",
              "      box-shadow: 0px 1px 2px rgba(60, 64, 67, 0.3), 0px 1px 3px 1px rgba(60, 64, 67, 0.15);\n",
              "      fill: #174EA6;\n",
              "    }\n",
              "\n",
              "    [theme=dark] .colab-df-convert {\n",
              "      background-color: #3B4455;\n",
              "      fill: #D2E3FC;\n",
              "    }\n",
              "\n",
              "    [theme=dark] .colab-df-convert:hover {\n",
              "      background-color: #434B5C;\n",
              "      box-shadow: 0px 1px 3px 1px rgba(0, 0, 0, 0.15);\n",
              "      filter: drop-shadow(0px 1px 2px rgba(0, 0, 0, 0.3));\n",
              "      fill: #FFFFFF;\n",
              "    }\n",
              "  </style>\n",
              "\n",
              "      <script>\n",
              "        const buttonEl =\n",
              "          document.querySelector('#df-50192a13-256e-4859-889e-0ac5e3bf1685 button.colab-df-convert');\n",
              "        buttonEl.style.display =\n",
              "          google.colab.kernel.accessAllowed ? 'block' : 'none';\n",
              "\n",
              "        async function convertToInteractive(key) {\n",
              "          const element = document.querySelector('#df-50192a13-256e-4859-889e-0ac5e3bf1685');\n",
              "          const dataTable =\n",
              "            await google.colab.kernel.invokeFunction('convertToInteractive',\n",
              "                                                     [key], {});\n",
              "          if (!dataTable) return;\n",
              "\n",
              "          const docLinkHtml = 'Like what you see? Visit the ' +\n",
              "            '<a target=\"_blank\" href=https://colab.research.google.com/notebooks/data_table.ipynb>data table notebook</a>'\n",
              "            + ' to learn more about interactive tables.';\n",
              "          element.innerHTML = '';\n",
              "          dataTable['output_type'] = 'display_data';\n",
              "          await google.colab.output.renderOutput(dataTable, element);\n",
              "          const docLink = document.createElement('div');\n",
              "          docLink.innerHTML = docLinkHtml;\n",
              "          element.appendChild(docLink);\n",
              "        }\n",
              "      </script>\n",
              "    </div>\n",
              "  </div>\n",
              "  "
            ]
          },
          "metadata": {},
          "execution_count": 6
        }
      ]
    },
    {
      "cell_type": "markdown",
      "source": [
        "*3. Defining y*"
      ],
      "metadata": {
        "id": "HFakFvpWkNbL"
      }
    },
    {
      "cell_type": "code",
      "source": [
        "y =df['label']"
      ],
      "metadata": {
        "id": "Fy5D6C1Sed0A"
      },
      "execution_count": 7,
      "outputs": []
    },
    {
      "cell_type": "markdown",
      "source": [
        "*4. Counting Unique values in y column*"
      ],
      "metadata": {
        "id": "v7Mv9ifwkV62"
      }
    },
    {
      "cell_type": "code",
      "source": [
        "df['label'].value_counts(), df['label'].nunique()"
      ],
      "metadata": {
        "id": "VbNbj9wTemci",
        "colab": {
          "base_uri": "https://localhost:8080/"
        },
        "outputId": "4627f71e-d31e-4868-acb7-b134c6108a51"
      },
      "execution_count": 8,
      "outputs": [
        {
          "output_type": "execute_result",
          "data": {
            "text/plain": [
              "(infp    1282\n",
              " infj    1057\n",
              " intp     811\n",
              " intj     781\n",
              " enfp     729\n",
              " entp     577\n",
              " enfj     518\n",
              " isfp     367\n",
              " isfj     364\n",
              " istp     327\n",
              " entj     279\n",
              " istj     259\n",
              " esfp     174\n",
              " esfj     105\n",
              " estp     100\n",
              " estj      81\n",
              " Name: label, dtype: int64,\n",
              " 16)"
            ]
          },
          "metadata": {},
          "execution_count": 8
        }
      ]
    },
    {
      "cell_type": "markdown",
      "source": [
        "*5. Label Encoding*"
      ],
      "metadata": {
        "id": "xQIo5yE2khkm"
      }
    },
    {
      "cell_type": "code",
      "source": [
        "from sklearn.preprocessing import LabelEncoder\n",
        "lb=LabelEncoder()\n",
        "y=lb.fit_transform(y)\n",
        "y"
      ],
      "metadata": {
        "id": "hNuRWY81fWeb",
        "colab": {
          "base_uri": "https://localhost:8080/"
        },
        "outputId": "eff03661-afa0-499a-e372-f6a66f46ddd0"
      },
      "execution_count": 9,
      "outputs": [
        {
          "output_type": "execute_result",
          "data": {
            "text/plain": [
              "array([10, 10, 10, ...,  3,  8, 15])"
            ]
          },
          "metadata": {},
          "execution_count": 9
        }
      ]
    },
    {
      "cell_type": "code",
      "source": [
        "df.shape"
      ],
      "metadata": {
        "id": "N-gzju-2fk2t",
        "colab": {
          "base_uri": "https://localhost:8080/"
        },
        "outputId": "15aaabbf-4295-40e1-8e78-defb205c7d00"
      },
      "execution_count": 10,
      "outputs": [
        {
          "output_type": "execute_result",
          "data": {
            "text/plain": [
              "(7811, 3)"
            ]
          },
          "metadata": {},
          "execution_count": 10
        }
      ]
    },
    {
      "cell_type": "code",
      "source": [
        "df.info()"
      ],
      "metadata": {
        "id": "Oz4iKURbfqHT",
        "colab": {
          "base_uri": "https://localhost:8080/"
        },
        "outputId": "2a6c2714-499c-435f-b018-24cd96a769ed"
      },
      "execution_count": 11,
      "outputs": [
        {
          "output_type": "stream",
          "name": "stdout",
          "text": [
            "<class 'pandas.core.frame.DataFrame'>\n",
            "RangeIndex: 7811 entries, 0 to 7810\n",
            "Data columns (total 3 columns):\n",
            " #   Column      Non-Null Count  Dtype \n",
            "---  ------      --------------  ----- \n",
            " 0   Unnamed: 0  7811 non-null   int64 \n",
            " 1   text        7811 non-null   object\n",
            " 2   label       7811 non-null   object\n",
            "dtypes: int64(1), object(2)\n",
            "memory usage: 183.2+ KB\n"
          ]
        }
      ]
    },
    {
      "cell_type": "markdown",
      "source": [
        "*6. Lowercase for 4th row*"
      ],
      "metadata": {
        "id": "GvYJL7Erk8dW"
      }
    },
    {
      "cell_type": "code",
      "source": [
        "df['text'][4].lower()"
      ],
      "metadata": {
        "id": "xyem42HofyOk",
        "colab": {
          "base_uri": "https://localhost:8080/",
          "height": 140
        },
        "outputId": "9db76019-f026-40b6-fc79-e643ed77056a"
      },
      "execution_count": 12,
      "outputs": [
        {
          "output_type": "execute_result",
          "data": {
            "text/plain": [
              "\"@kaeshurr1 give it to @zargarshanif ... he has pica since childhood|||@dannnyaaaa say qubool hai in my dm ❤️|||@dannnyaaaa get married asap|||@ubaid_rasool two decades actually 🌚|||@kaeshurr1 @umer__ayoub subas ?|||@kaeshurr1 @umer__ayoub wayne kar niyiv meati panas seyt|||@kaeshurr1 @umer__ayoub mea gov akh hafte czeaf dith|||@kaeshurr1 @umer__ayoub meati niyziha panas seyt|||okay 🥺 https://t.co/3fh1tqbfl2|||@hareembhat_ https://t.co/0nve1cdbqd|||@pingaapongaa hye|||@bint_e_tasleem i had a lot to speak out, but you ignored me 🥺|||@whytaniya welcome back|||just a simple thought, what's stopping from having icu facilities at dh shopian? 50-70% deaths occur due to referra… https://t.co/wpcgmdzsar|||@toyibanabi laxmi chit fund bank|||same bro same 🥺🌚 https://t.co/2g5zorfhsf|||@yawar_banday expecting a grand opening soon in sha allah???|||@dannnyaaaa aameeeeeeeennnn|||@babra_yousuf mohabat|||@yawar_banday thanks for bringing the coolest place ever seen ❤️|||@aadilsam118 mujhe b le jao tandoori chicken khane...🥺|||#newprofilepic https://t.co/dcilyzkxkv|||@muskan_parhlo @2 @penstagrammer 🥺|||monro kellie hypothesis 🥺 https://t.co/olf8wldpuj|||@ruqayawar quch healthy sa khaya karo didi\\nkamzori bohot hai apko|||medicos use twitter and snapchat just to show their books, apron, stethoscope and college.\\n#crowning|||@bashir_zarnab ye lo https://t.co/wexbr3j8dr|||@urvaak_ @kaeshurr1 bull means saand 🥺|||@kaeshurr1 bell|||@kaeshurr1 hil bill 🥺|||@mir_reyazz badshah|||@shazilturey bhai toilet mai karleta|||@aadilsam118 looking new pandemic|||@d_otherkhaleesi effects of ignoring my hi 🥺|||@amnaghaffar777 me n who 🥺|||@waseems72520362 bellisa champ|||@penstagrammer inviting ?|||@bleeehh_ kaise bro kaise|||@penstagrammer https://t.co/wkwqccfdcf|||@_______alif get well soon 🙂|||@khargoooooosssh ok bye 👋|||@saniazehra123 ok|||@arshiequreshi bring some to delhi too 🥺|||@umi07khan @shazilturey hahahahaha bhai he's the best poser|||@shazilturey 13 khoon maaf|||@mehnaz077 pehle he bola tha 🥺|||@kaeshurr1 mumbai wala good job leaving leaving kese join karega 🥺|||@_cheese_corn @kalam_ki_noke 😊|||@__ali07 @2 @m_zainab_k 🥺|||@maham_32 @amnaghaffar777 astagfirullah 🙄|||@amnaghaffar777 @baezaarrr same dua for me too bro 🥺|||@kaeshurr1 bhai time travel kar k aaya mai tere bache khelte dikh gaye 😪|||@kaeshurr1 ok bye 👋 https://t.co/teihtevd2m|||@shinvanuk https://t.co/racxo2amr4|||@giggle_44 faridabad is green|||@giggle_44 no|||@umi07khan @_cheese_corn https://t.co/lgpeyrtulx|||@_cheese_corn send over 😪|||somewhere in world, someone is having toothache, headache, earache. some woman is undergoing labour pain, some male… https://t.co/zb7s9yq5du|||@giggle_44 dil wale nahi hai west delhi wale|||@kaeshurr1 hahahahaha you're his secret admirer 🤣🤣🤣|||@kaeshurr1 your workout reason 🤣 https://t.co/jkdorof4ih|||@jutti__hun @umi07khan kya bolte ho bhai|||@impov same bro same 🥺|||@nawab__zadiii @sakon_e_qalb naya lelo 🥺|||@uzma_nisar @warofchains masha allah|||@ammar_xaidi @1st @heya_ambivert 🥺|||@___maida__ wo kya hota hai 🥺|||@sarahsa62844321 text me once you reach home doc 🥺|||@kaiiiisus @ladygaga 🥺|||in aankhon ki masti mai .... dark circles hazaroon hai 🥲\\n#darkcirclesarehot|||@giggle_44 sikhao 🌚|||@giggle_44 what's cp 🥺|||@giggle_44 you can have 9 after 9 months 🌚|||they talk about golden or diamond rings.\\ni talk about fleischer ring, weiss ring and vossious ring.\\n#zlife\\U0001f979|||@toyibanabi credits \\U0001f979|||@sadiaakbarrr thanks (3)|||@hudaibaj left hand \\U0001f979|||@bint_e_tasleem tajamul soab \\U0001f979|||@_cheese_corn mirzapur|||@kifayat677671 saal kar chu kheon🌚|||@kifayat677671 mubarak|||@giggle_44 @ranamishka tumhe kab mili|||@d_otherkhaleesi astagfirullah|||@d_otherkhaleesi https://t.co/vbp0iwejee|||@d_otherkhaleesi alhamdulillah you don't talk anymore|||@d_otherkhaleesi no it's your current relationship status|||@d_otherkhaleesi alhamdulillah|||@muskurategham +1|||@d_otherkhaleesi @gowhar_ you're 29+ 😊|||@bhavyaxoxo @elonmusk bhai batao inko \\U0001f979|||@bhavyaxoxo okay|||@bint_e_tasleem \\U0001f979|||@_dabosschick chalo meaning samjhao sabka 🥺|||life was all good then \\naphagia, asphyxia, apraxia, aphasia, ageusia, dysphagia, dysarthria, dyspraxia happened. 🥺\\n#frigid_thoughts.|||@hudaibaj shaatiraana harkatein by @kaeshurr1 🥺|||@giggle_44 ye bhi theek hai 🥺|||@na_jao_na @1st @mir_reyazz|||@bakalhafsa @jandktourism @kashmir_weather @jktourism_corpn mai bhi 🥺🥺🥺|||@mir_reyazz @sadiyabhat_ @shazilturey it's haraam to text gair mehram 🥺|||@giggle_44 https://t.co/f72e8dkok3|||@giggle_44 ghar k bahar wali under 18 bachu ki park mai jane ko bahar jana bolte hai west delhi mai ? \\U0001f979|||@giggle_44 as if you're hanging out with friends. you just tweeted while brushing 🌚|||for pediatricians, the word baby isn't romantic at all. \\nthey will end up thinking whether you're talking about neo… https://t.co/1c5i8sofpx|||@___maida__ kaha 🌚|||@m_zainab_k paani bhi garam aaraha gaaaaaawwwaaaizzz 🌚|||@farkhanda_shah je veux m'enfuir que tout recommence\\noh ma douce souffrance \\U0001f979|||@theyluvvshine 6'1\\n27\\nwidower|||@nowreeeeeeeen https://t.co/rai0bvalyy|||@nowreeeeeeeen https://t.co/gwafdw3ptn|||@nowreeeeeeeen @giggle_44 https://t.co/dexau092zz|||@nowreeeeeeeen how much ? \\U0001f979|||@giggle_44 tab xxy or xyy hoga so in both cases extra x and y can come from male partner so de dana dhan \\U0001f979|||@giggle_44 you means parents or offspring?|||if you wanna beat someone because a girl is born, beat your son.\\n#girlaareablessing|||men have xy chromosomes and females have xx chromosomes. female always gives x and it is on the male genome which d… https://t.co/bu1s5v20n3|||@maham_32 @maybeeevirgo @amnaghaffar777 astagfirullah 🙄|||@sakon_e_qalb @3rd @afreenshowkat 🙄|||@theyluvvshine replied|||forget bad memories of life just like you forgot muscle attachments in anatomy and drug classification in pharma. \\U0001f979… https://t.co/jbca3bsjrl|||@altafg22 @4th @14harneet \\U0001f979|||@kaeshurr1 https://t.co/u5qvjdpfc2|||@kaeshurr1 as if you've plans for weekend \\U0001f979|||@toyibanabi @youtube give her ad free subscription \\U0001f979|||@aadilsam118 married tulips of shopian|||@giggle_44 padhai likhayi kro ashu\\nia y a s karo|||@kaeshurr1 😂|||@giggle_44 show off 🥺🥺🥺|||@kaeshurr1 pet mai kitne jayege bhai ... one tree produces 500 boxes on average|||@kaeshurr1 true that. but it's shelf life sucks|||@nowreeeeeeeen @noorhopes @3rd what's bt 😪|||@bint_e_tasleem sending hi from 46° 😊|||@_dabosschick 🥺|||@khanra_tiyasa ok bye 👋|||don't get attached to many people.\\nyou're human not humerus that can hold 13 muscle attachments alone.🌚\\n#mentalhealthawarenessweek|||@seydquraiba @sonusood bhai iske liye flight book krdo 😪|||@d_otherkhaleesi not again / not against 😪|||@umi07khan @shazilturey kanijung ka khatra 😪|||@nad1an4v33d not me 🥲|||@shazilturey looking omicron|||@noushibahilal i'm scared of email attachments 🥲|||@syed_shoiabb @minicotinee ok bhaijaan|||@minicotinee @syed_shoiabb toh mai best friend b ni hu 🙄|||@minicotinee mai kya hun fir 🥲|||@dissociativeee theek hai|||@_illusion98 your nails and pant are twinning 😊|||@minicotinee order from @amazonin|||@_dabosschick https://t.co/yklxw26q76|||@seydquraiba aunts 🤧|||@mussegareeb_ welcome to india|||@zaira_aaa @nowreeeeeeeen \\U0001f979|||@haddhai_ replied|||treat yourself like someone you loved \\U0001f979\\n#mood|||@itsbitchma you're pretty|||@itsbitchma ok|||@afaxima masha allah|||@m_zainab_k congratulations 👏|||@afaxima mujhe bhi sath lejate \\U0001f979|||@mir_reyazz @sheen_piipin wadnas ruduy na waar|||@bint_e_tasleem shall i recite bismillah and dm you then|||@mir_reyazz @sheen_piipin kya hamle kornay mulazim soaba \\U0001f979\\U0001f979|||@bint_e_tasleem i always fantasise dming you. but then i reject myself and stop fantasising even. \\ni've this inferiority complex.|||@asraafarooque we can be anything? 🙄|||@bint_e_tasleem reply my all pending dms|||@umi07khan @nun_chaai @isaguha while working in your apple orchard may be \\U0001f979|||@sheen_piipin zakhmi pipin|||@stanfordmbb @jameskeefe22 @brandon_angel3 goodluck❤️|||@youlovemeikthat ab may dump k sath krna|||@afaxima pray for me too|||@ammar_xaidi @2nd @_dabosschick|||@aadilsam118 covid baradari|||@dr_mun24 you want a doll? choti wali ?|||@kheramahira21 kyu \\U0001f979|||@kheramahira21 ap krte ho ? \\U0001f979|||@eramwani slapping is not good|||@nusrat193 beshak|||@rukhsanajalani tajamul islam|||@mir_reyazz @_maryambhat_ hahahahaha.... beha govus bore yeti wallah ....|||@irtiqaayoub keep smiling didi|||@mir_reyazz @_maryambhat_ yi kya waatiy mulazim soaba ?|||@_maryambhat_ how old are you|||@_cheese_corn separated ?|||@jaane_bhai_ tajamul___islam|||@minicotinee happy birthday 🎊🎁|||@theycallmepoem 👋|||@_illusion98 @sheen_piipin thanks|||@sheen_piipin nice wohvov \\U0001f979|||@sarahafreenmal1 what do you do on weekends?|||@sarahafreenmal1 still you said no to me ?|||@sarahafreenmal1 sarah afreen. lemme take you out someday. works ? \\U0001f979|||@sarahafreenmal1 so it's fact hot girls don't date ugly guys 🙂|||@sarahafreenmal1 agreed mam. so can we date or not ? \\U0001f979|||@sarahafreenmal1 so we can still date ?|||@themessybreeze congratulations|||@sarahafreenmal1 you're 35 and hot \\ni'm 27 and ugly. \\nlet's date and break the myth\\U0001f979|||@fasaadd khilao fir 😪|||@fasaadd https://t.co/v7qhurrehd|||@shazilturey looking new variant.|||\""
            ],
            "application/vnd.google.colaboratory.intrinsic+json": {
              "type": "string"
            }
          },
          "metadata": {},
          "execution_count": 12
        }
      ]
    },
    {
      "cell_type": "code",
      "source": [
        "text =df['text']"
      ],
      "metadata": {
        "id": "umcr-svIf9MY"
      },
      "execution_count": 13,
      "outputs": []
    },
    {
      "cell_type": "markdown",
      "source": [
        "*7. Coverting lowercase*"
      ],
      "metadata": {
        "id": "Tq7MSyOclKFq"
      }
    },
    {
      "cell_type": "code",
      "source": [
        "text = text.str.lower()"
      ],
      "metadata": {
        "id": "TaAVoEZDgACV"
      },
      "execution_count": 14,
      "outputs": []
    },
    {
      "cell_type": "markdown",
      "source": [
        "*8. Removing html tags*"
      ],
      "metadata": {
        "id": "6vMVsjUYlcQI"
      }
    },
    {
      "cell_type": "code",
      "source": [
        "import re \n",
        "def remove_html_tags(text):\n",
        "  pattern = re.compile('<.*?>')\n",
        "  return pattern.sub(r'', text)"
      ],
      "metadata": {
        "id": "BT9ggj8IgFM6"
      },
      "execution_count": 15,
      "outputs": []
    },
    {
      "cell_type": "code",
      "source": [
        "text = text.apply(remove_html_tags)\n",
        "text"
      ],
      "metadata": {
        "id": "Sne9YadfgYr1",
        "colab": {
          "base_uri": "https://localhost:8080/"
        },
        "outputId": "bcc15c6c-d2f5-4c9c-d5a5-882297799e6b"
      },
      "execution_count": 16,
      "outputs": [
        {
          "output_type": "execute_result",
          "data": {
            "text/plain": [
              "0       @pericles216 @hierbeforetheac @sachinettiyil t...\n",
              "1       @hispanthicckk being you makes you look cute||...\n",
              "2       @alshymi les balles sont réelles et sont tirée...\n",
              "3       i'm like entp but idiotic|||hey boy, do you wa...\n",
              "4       @kaeshurr1 give it to @zargarshanif ... he has...\n",
              "                              ...                        \n",
              "7806    @sobsjjun god,,pls take care 😕|||@sobsjjun hir...\n",
              "7807    @ignis_02 wow last time i got intp https://t.c...\n",
              "7808    @akupilled a 100%|||@akupilled that someone wi...\n",
              "7809    if you’re #intj this one is for you | what is ...\n",
              "7810    @harry__lambert @gucci hey can you dm me a pic...\n",
              "Name: text, Length: 7811, dtype: object"
            ]
          },
          "metadata": {},
          "execution_count": 16
        }
      ]
    },
    {
      "cell_type": "markdown",
      "source": [
        "*9. Cleaning URL*"
      ],
      "metadata": {
        "id": "Pn3z9no2ll3L"
      }
    },
    {
      "cell_type": "code",
      "source": [
        "def remove_url(text):\n",
        "  pattern = re.compile(r'https?://\\S+|www\\. \\s+')\n",
        "  return pattern.sub(r'',text)"
      ],
      "metadata": {
        "id": "pZg9LJyaggK4"
      },
      "execution_count": 17,
      "outputs": []
    },
    {
      "cell_type": "code",
      "source": [
        "text=text.apply(remove_url)\n",
        "text"
      ],
      "metadata": {
        "id": "xF1gAJhFgy9S",
        "colab": {
          "base_uri": "https://localhost:8080/"
        },
        "outputId": "8745fb83-5c34-483f-e1b1-a1136c12d566"
      },
      "execution_count": 18,
      "outputs": [
        {
          "output_type": "execute_result",
          "data": {
            "text/plain": [
              "0       @pericles216 @hierbeforetheac @sachinettiyil t...\n",
              "1       @hispanthicckk being you makes you look cute||...\n",
              "2       @alshymi les balles sont réelles et sont tirée...\n",
              "3       i'm like entp but idiotic|||hey boy, do you wa...\n",
              "4       @kaeshurr1 give it to @zargarshanif ... he has...\n",
              "                              ...                        \n",
              "7806    @sobsjjun god,,pls take care 😕|||@sobsjjun hir...\n",
              "7807    @ignis_02 wow last time i got intp    i think ...\n",
              "7808    @akupilled a 100%|||@akupilled that someone wi...\n",
              "7809    if you’re #intj this one is for you | what is ...\n",
              "7810    @harry__lambert @gucci hey can you dm me a pic...\n",
              "Name: text, Length: 7811, dtype: object"
            ]
          },
          "metadata": {},
          "execution_count": 18
        }
      ]
    },
    {
      "cell_type": "markdown",
      "source": [
        "*10. Removing punctuations*"
      ],
      "metadata": {
        "id": "6IarOzYGl5ti"
      }
    },
    {
      "cell_type": "code",
      "source": [
        "import time "
      ],
      "metadata": {
        "id": "vUJ8N7Yhg6_E"
      },
      "execution_count": 1,
      "outputs": []
    },
    {
      "cell_type": "code",
      "source": [
        "punc = '''!()-{}[];:'\"\\,<>./?|@#$%^&*_~'''"
      ],
      "metadata": {
        "id": "NfS9jM5HhM8r"
      },
      "execution_count": 20,
      "outputs": []
    },
    {
      "cell_type": "code",
      "source": [
        "def remove_punctuation(text):\n",
        "  for char in punc:\n",
        "    text = text.replace(char, '')\n",
        "  return text"
      ],
      "metadata": {
        "id": "dD7A5cnEhQIa"
      },
      "execution_count": 21,
      "outputs": []
    },
    {
      "cell_type": "code",
      "source": [
        "text = text.apply(remove_punctuation)\n",
        "text"
      ],
      "metadata": {
        "id": "fmrJsowIinMC",
        "colab": {
          "base_uri": "https://localhost:8080/"
        },
        "outputId": "dcf2014d-34c8-4e42-b102-90ba5599b873"
      },
      "execution_count": 22,
      "outputs": [
        {
          "output_type": "execute_result",
          "data": {
            "text/plain": [
              "0       pericles216 hierbeforetheac sachinettiyil the ...\n",
              "1       hispanthicckk being you makes you look cutethi...\n",
              "2       alshymi les balles sont réelles et sont tirées...\n",
              "3       im like entp but idiotichey boy do you want to...\n",
              "4       kaeshurr1 give it to zargarshanif  he has pica...\n",
              "                              ...                        \n",
              "7806    sobsjjun godpls take care 😕sobsjjun hiro emerg...\n",
              "7807    ignis02 wow last time i got intp    i think u ...\n",
              "7808    akupilled a 100akupilled that someone will get...\n",
              "7809    if you’re intj this one is for you  what is ne...\n",
              "7810    harrylambert gucci hey can you dm me a pic of ...\n",
              "Name: text, Length: 7811, dtype: object"
            ]
          },
          "metadata": {},
          "execution_count": 22
        }
      ]
    },
    {
      "cell_type": "code",
      "source": [
        "start = time.time()\n",
        "print(remove_punctuation(text))\n",
        "time1 = time.time() - start\n",
        "print(time1)"
      ],
      "metadata": {
        "id": "deXfvSQchggA",
        "colab": {
          "base_uri": "https://localhost:8080/"
        },
        "outputId": "d9fc4462-2e62-4ed4-a0ef-2e10d02305e4"
      },
      "execution_count": 23,
      "outputs": [
        {
          "output_type": "stream",
          "name": "stdout",
          "text": [
            "0       pericles216 hierbeforetheac sachinettiyil the ...\n",
            "1       hispanthicckk being you makes you look cutethi...\n",
            "2       alshymi les balles sont réelles et sont tirées...\n",
            "3       im like entp but idiotichey boy do you want to...\n",
            "4       kaeshurr1 give it to zargarshanif  he has pica...\n",
            "                              ...                        \n",
            "7806    sobsjjun godpls take care 😕sobsjjun hiro emerg...\n",
            "7807    ignis02 wow last time i got intp    i think u ...\n",
            "7808    akupilled a 100akupilled that someone will get...\n",
            "7809    if you’re intj this one is for you  what is ne...\n",
            "7810    harrylambert gucci hey can you dm me a pic of ...\n",
            "Name: text, Length: 7811, dtype: object\n",
            "0.02400374412536621\n"
          ]
        }
      ]
    },
    {
      "cell_type": "code",
      "source": [
        "text[7806]"
      ],
      "metadata": {
        "id": "t_nW84bXi0Wb",
        "colab": {
          "base_uri": "https://localhost:8080/",
          "height": 140
        },
        "outputId": "c9a89723-54e4-43e4-fbe7-a09b32f87b42"
      },
      "execution_count": 24,
      "outputs": [
        {
          "output_type": "execute_result",
          "data": {
            "text/plain": [
              "'sobsjjun godpls take care 😕sobsjjun hiro emergency room are you okay waitdafahoe zeharrrrrrr😭😭😭😭😭😭😭😭txtlomlsss ye0nyang oh my god thats 💔ye0nyang txtlomlsss did i liesoobinspolaroid i knownano h—\\nsoule  grandma   r so cute😭my whole tl just 4 oomfs doing sum shit but i love itsoobinspolaroid is this u0x1bts plus i took a test yesterday and i am an intp ur so annoying0x1bts dude atleast speak in english what if he minds wtfsoobinspolaroid sobsjjun oh my godsoobinspolaroid sobsjjun who tf tells before stealing just steal when hes sleeping or sum shit 😭0x1bts soobinspolaroid what the fuck0x1bts soobinspolaroid  im intpi should stop making jokes  helpbeomthyusiast1 nooooo😭ye0nyang snakskdmkwkwmdmbeomthyusiast1 who said im jokingyeehawnjun im so funnytxtlomlsss rightt im so geniusox1gyuu sooo truecactigumi im so funnytxtlomlsss im geniuschoiseeker yesyuniberri yunnie twtstolen btwif a shark bites ubite back  youll still d1e but the shark would be like yo wtfinsoobinspolaroid i love kids too every kid i meet gets very attached to me and idk why😭yeonjun is no ones shadow shut the fuck up loser  guess whos the anonsoobinspolaroid im intp ✨soobinspolaroid anon ur so funnysoobinspolaroid wait fried  egg raw egg boiled egg or smthsoobinspolaroid eggsoobinspolaroid oh ny god samwsoobinspolaroid like yoursoobinspolaroid yes his name is sunoosoobinspolaroid sunoo lomlsoobinspolaroid vacations right same 💀dafahoe helpppbeomgyuspabomoa ok👁️👄👁️man i love him  did u try making pancakes againsobsjjun yes lmao im okay0x1bts teray pas aur kuch bolnay ko hi nahi hai 💀0x1bts darne do lawl0x1bts mein fazool baton pe nahi roti \\U0001faf6🏽sobsjjun buy a lot of snacks and eat a lotsobsjjun yeasssssobsjjun ps5sobsjjun shirt or smthdude me and my cousin were standing on the street and there was a big wild cat running towards us and it was fast a…  keep telling me that it wont effect me bc ur not my mom \\U0001faf6🏽forsseratxt wtf shes a whole minorhyyhkai exactly💀yawnzzniverted yesrkwnzzn exactly shes 15 like wtfbtxtrealm ikr likei hate yall leave them alonewho tf is shipping eunche and 🐻forsseratxt what happened 💀taehyun0x1bts ur a nuguur just like me  or let me carry these trash bags for yoy waitgjnzzn omg  noodiswifey fucj mathsrekimimi17 no its ewwwwww5oobinluv yes i oened weverse and boomodiswifey dpes this scare you   wtf is fhis  history science maths  ew maths5oobinluv noo i wont dont worry 😭😭5oobinluv yes we always watch thrillers 😭5oobinluv yeasss again 😼sobsjjun okay give them to me then 💀odiswifey yay thank u nona sobsjjun he is cooler than u \\U0001faf6🏼odiswifey i dont know yet but i watched the insidious yesterday \\U0001faf6🏼sobsjjun hes cuter than u 😕sobsjjun they do that one baby u posted was so cuteso im watching a horror movie again today 😼sobsjjun and tallsobsjjun ur so coolxcyj gm lovi have a great day good morning  yes yesi love u \\U0001faf6🏼 johncena hi non oomf pls fb actually u got caught in bl0ckchainsjjuniverses yesmy meows   i actually did notice but i thought ur sleeping sooooo☹️lol i want this or else ill make one myself  😭😭ningningie nauuryryrytried to pull my blanket but i hit my face insteadbeozip yawnwdz 2 likeyawnwdz why r random ppl retweeting my taemin tweets helloyawnwdz the rt 💀yawnwdz wait taemin from shineeyawnwdz i think its shinee from taeminsoobinspolaroid ikr like lmao😭the tweet that started it all   all know its odi  dudebeomgyuspabomoa block him these people r fucking annoyingbeomgyuspabomoa is that some localjafferyyy phir letay rahosaucegamez soobnf4iry ianndior  so jao omgiann wanted to collab with them     you too lucas 😔soobinspolaroid inoor will never let you flop and will defend u till i d1e cringessoobinspolaroid i will never let u flop gothic fontsoobinspolaroid luflop jtxtlomlsss same lmaotxtlomlsss helpppi miss yeonjundude  yes\\U0001faf6🏽  its not on nwtflix omg i love this\\n most disturbing movie i ever watchedwhy r the voices m0aning isnt this a horror moviethere are too many jumpscares in insidious im crydidbokay christians daughters r pretty not gonna liecreepy as fuckd sksim traumatizedglorysoob jkdkth you guys im watching insidious and im traumatizedelise ur sooh shit they found this whistleyeonkook7 yesthe woman is so creepysobsjjun im watching insidious right now \\U0001faf6🏼biych a fucking womab standing there and u dont see itjkdkth right the first few scenes were a bit scary but its a bit confusing 😭glorysoob omgyou guys im fucking screaming its so scary  oh😭yeonkook7 omg ok im watching right now 😭is insidious scaryguys is orphan scarymagnifityun yes lmskskdk with ny cousin though 😭yeonssim the movie exorcistmagnifityun yes the 1973 one omg i think i should watch ot tonightratio    omg is that scaryrkwnzzn yes yes ill wztch this thank yoult3my mom said its too scary☹️has anyone watched the exorcist 😕rkwnzzn omg yesis gram innocentsobsjjun oki lets intwract more \\U0001faf6🏼sobsjjun im so short wtf 💀28yeonsthetic ayeeee28yeonsthetic lmfao what happenedis this me ☹️  164cm'"
            ],
            "application/vnd.google.colaboratory.intrinsic+json": {
              "type": "string"
            }
          },
          "metadata": {},
          "execution_count": 24
        }
      ]
    },
    {
      "cell_type": "markdown",
      "source": [
        "*11. Handling Emojis*"
      ],
      "metadata": {
        "id": "wFIYS3VBmOij"
      }
    },
    {
      "cell_type": "code",
      "source": [
        "!pip install emoji\n",
        "import emoji\n",
        "print(emoji.demojize(text[7606]))"
      ],
      "metadata": {
        "id": "J0YCjmQrjM_v",
        "colab": {
          "base_uri": "https://localhost:8080/"
        },
        "outputId": "7f83d842-0852-4ff9-e034-520120653abc"
      },
      "execution_count": 25,
      "outputs": [
        {
          "output_type": "stream",
          "name": "stdout",
          "text": [
            "Looking in indexes: https://pypi.org/simple, https://us-python.pkg.dev/colab-wheels/public/simple/\n",
            "Collecting emoji\n",
            "  Downloading emoji-2.2.0.tar.gz (240 kB)\n",
            "\u001b[2K     \u001b[90m━━━━━━━━━━━━━━━━━━━━━━━━━━━━━━━━━━━━━━━\u001b[0m \u001b[32m240.9/240.9 kB\u001b[0m \u001b[31m8.1 MB/s\u001b[0m eta \u001b[36m0:00:00\u001b[0m\n",
            "\u001b[?25h  Preparing metadata (setup.py) ... \u001b[?25l\u001b[?25hdone\n",
            "Building wheels for collected packages: emoji\n",
            "  Building wheel for emoji (setup.py) ... \u001b[?25l\u001b[?25hdone\n",
            "  Created wheel for emoji: filename=emoji-2.2.0-py3-none-any.whl size=234926 sha256=f58e91b9e91abc3f06835cbf62e717057f5ae6668e882a874f6c1be0979ba503\n",
            "  Stored in directory: /root/.cache/pip/wheels/9a/b8/0f/f580817231cbf59f6ade9fd132ff60ada1de9f7dc85521f857\n",
            "Successfully built emoji\n",
            "Installing collected packages: emoji\n",
            "Successfully installed emoji-2.2.0\n",
            "guys omg  so happy they got to meet again  sayangku :loudly_crying_face::loudly_crying_face::loudly_crying_face::loudly_crying_face:wetheboyz sayangi hope their arms is the last thing i see before i sleep and then i will be dreaming about sanghak arms toogoing crazy  one chance please give me one chance :face_with_hand_over_mouth::grinning_face_with_smiling_eyes::rolling_on_the_floor_laughing::beaming_face_with_smiling_eyes::face_holding_back_tears::grinning_squinting_face:guys i love haknyeon so muchsanghaakkkkkkkkkkkkk armsssssssssss:grinning_face_with_smiling_eyes::grinning_face_with_smiling_eyes::grinning_face_with_smiling_eyes::grinning_face_with_smiling_eyes::grinning_face_with_smiling_eyes::grinning_face_with_smiling_eyes::grinning_face_with_smiling_eyes:  ilywetheboyz omgwetheboyz juyeonliterally what the fucklord  shut up  hak ily:grinning_face_with_smiling_eyes::grinning_face_with_smiling_eyes:  i love youwetheboyz omgoh my bbangnyuman…   am i suppose to move on what   baby  i love you so muchcravitystarship thank you youngtae :heart_hands::heart_hands::heart_hands:hey god its me again  my loveswetheboyz thank youwetheboyz oh my godbbangnyuanother win for me today as a fengfan and juyeon enthusiast  way   my god  my god  :heart_hands::heart_hands::heart_hands::heart_hands::heart_hands::heart_hands:  i love him so much   yay so proud of everyone today :heart_hands::heart_hands:couldn’t watch dream concert earlier when it was streaming but i just watch cix performance and they served once again :heart_hands::heart_hands:seungyounification of juyeon :heart_hands::heart_hands:  i dont miss when cix is on the red carpet im not home and my data is :face_holding_back_tears:i really hope hes doing well   boyz served once againsweet :heart_hands::heart_hands::heart_hands::heart_hands::heart_hands:bloom bloom 20 :heart_hands::heart_hands::heart_hands::heart_hands:ist i need you to announce literally right now if the boyz is coming to sg so i can find money and plan my timelomlllllll  lomlhappy seeun day lt3  cannot do this today…  have hope for the boyz coming to sg plsplsplsplsplsplsnct 127 in sg… so tempted to buy the tickets :loudly_crying_face::loudly_crying_face:love   well soon jacob good morning to me  omg   for juyeon kevin and changmin fast recovery no way omgwhat…because like wtf   morning to me what the fuck did i just wake up towetheboyz qtqueen  congrats loves so proud of everyoneso proud of them they deserve it so much lt3  omg hi :heart_hands::heart_hands::heart_hands:my love   omgwetheboyz goodnight kev lt3spent an hour watching bbangnyu vlive i think life is at its peakvityprnt happy birthday cor doh my  i love youwetheboyz youmy bbangnyuwhat the fuckshut up  morning to me  yay sunwoowetheboyz ilyisttheboyz thank you hyunjaeoh my god world stop  omgisttheboyz whati love him  my hak  yay hakwetheboyz my loveforever 11 lt3okay but no bloom bloom :face_holding_back_tears::face_holding_back_tears:i would have fucking collapsed what  proud of thembet on youddd my belovedtheyre the cutest fr actually gonna cry  bloom bloom… no bloom bloomthis   :face_holding_back_tears::face_holding_back_tears::face_holding_back_tears::face_holding_back_tears::beaming_face_with_smiling_eyes:also the birthday surprise for jacob thats so cutei keep on saying that i will log off for my mental health but the thought of missing out when they are in the red o…  have survived this irl  red outfits are so prettywhat  my chanhee  cannot i cannot i cannot  checkmate omgi need to see haklord  juyeon:face_holding_back_tears:  off :loudly_crying_face::loudly_crying_face::loudly_crying_face::loudly_crying_face::loudly_crying_face::loudly_crying_face::loudly_crying_face::loudly_crying_face:may we get a lot of haknyeon pics today or i will screamone day one day they will come to singapore  jacob day :red_heart:\n",
            "\n",
            "따스함으로물든제이콥의스물여섯\n",
            "ourangeljacobdayhappy jacob day lt3  going to sleep through the whole theb zone concert tmr definitely not because i cannot go to oneokay younghoon has an undercut and i only know about it nowkev hyunjae younghoon :face_holding_back_tears::face_holding_back_tears::face_holding_back_tears:not now please why is always when im outside:loudly_crying_face::loudly_crying_face::loudly_crying_face::loudly_crying_face:  my god prettiest hak  hak my favourite hakcherry hak wdym wdym wdymmy loves  the prettiest  mf late to the pink chanhee but omg pink chanheewetheboyz i love you so so much :heart_hands::heart_hands::heart_hands:jichang  ily\n"
          ]
        }
      ]
    },
    {
      "cell_type": "code",
      "source": [
        "text[7606].encode('utf-8')"
      ],
      "metadata": {
        "id": "V8n2fTlPKMDm",
        "colab": {
          "base_uri": "https://localhost:8080/"
        },
        "outputId": "21453ba3-b00f-49fa-843f-264d671bff25"
      },
      "execution_count": 26,
      "outputs": [
        {
          "output_type": "execute_result",
          "data": {
            "text/plain": [
              "b'guys omg  so happy they got to meet again  sayangku \\xf0\\x9f\\x98\\xad\\xf0\\x9f\\x98\\xad\\xf0\\x9f\\x98\\xad\\xf0\\x9f\\x98\\xadwetheboyz sayangi hope their arms is the last thing i see before i sleep and then i will be dreaming about sanghak arms toogoing crazy  one chance please give me one chance \\xf0\\x9f\\xa4\\xad\\xf0\\x9f\\x98\\x84\\xf0\\x9f\\xa4\\xa3\\xf0\\x9f\\x98\\x81\\xf0\\x9f\\xa5\\xb9\\xf0\\x9f\\x98\\x86guys i love haknyeon so muchsanghaakkkkkkkkkkkkk armsssssssssss\\xf0\\x9f\\x98\\x84\\xf0\\x9f\\x98\\x84\\xf0\\x9f\\x98\\x84\\xf0\\x9f\\x98\\x84\\xf0\\x9f\\x98\\x84\\xf0\\x9f\\x98\\x84\\xf0\\x9f\\x98\\x84  ilywetheboyz omgwetheboyz juyeonliterally what the fucklord  shut up  hak ily\\xf0\\x9f\\x98\\x84\\xf0\\x9f\\x98\\x84  i love youwetheboyz omgoh my bbangnyuman\\xe2\\x80\\xa6   am i suppose to move on what   baby  i love you so muchcravitystarship thank you youngtae \\xf0\\x9f\\xab\\xb6\\xf0\\x9f\\xab\\xb6\\xf0\\x9f\\xab\\xb6hey god its me again  my loveswetheboyz thank youwetheboyz oh my godbbangnyuanother win for me today as a fengfan and juyeon enthusiast  way   my god  my god  \\xf0\\x9f\\xab\\xb6\\xf0\\x9f\\xab\\xb6\\xf0\\x9f\\xab\\xb6\\xf0\\x9f\\xab\\xb6\\xf0\\x9f\\xab\\xb6\\xf0\\x9f\\xab\\xb6  i love him so much   yay so proud of everyone today \\xf0\\x9f\\xab\\xb6\\xf0\\x9f\\xab\\xb6couldn\\xe2\\x80\\x99t watch dream concert earlier when it was streaming but i just watch cix performance and they served once again \\xf0\\x9f\\xab\\xb6\\xf0\\x9f\\xab\\xb6seungyounification of juyeon \\xf0\\x9f\\xab\\xb6\\xf0\\x9f\\xab\\xb6  i dont miss when cix is on the red carpet im not home and my data is \\xf0\\x9f\\xa5\\xb9i really hope hes doing well   boyz served once againsweet \\xf0\\x9f\\xab\\xb6\\xf0\\x9f\\xab\\xb6\\xf0\\x9f\\xab\\xb6\\xf0\\x9f\\xab\\xb6\\xf0\\x9f\\xab\\xb6bloom bloom 20 \\xf0\\x9f\\xab\\xb6\\xf0\\x9f\\xab\\xb6\\xf0\\x9f\\xab\\xb6\\xf0\\x9f\\xab\\xb6ist i need you to announce literally right now if the boyz is coming to sg so i can find money and plan my timelomlllllll  lomlhappy seeun day lt3  cannot do this today\\xe2\\x80\\xa6  have hope for the boyz coming to sg plsplsplsplsplsplsnct 127 in sg\\xe2\\x80\\xa6 so tempted to buy the tickets \\xf0\\x9f\\x98\\xad\\xf0\\x9f\\x98\\xadlove   well soon jacob good morning to me  omg   for juyeon kevin and changmin fast recovery no way omgwhat\\xe2\\x80\\xa6because like wtf   morning to me what the fuck did i just wake up towetheboyz qtqueen  congrats loves so proud of everyoneso proud of them they deserve it so much lt3  omg hi \\xf0\\x9f\\xab\\xb6\\xf0\\x9f\\xab\\xb6\\xf0\\x9f\\xab\\xb6my love   omgwetheboyz goodnight kev lt3spent an hour watching bbangnyu vlive i think life is at its peakvityprnt happy birthday cor doh my  i love youwetheboyz youmy bbangnyuwhat the fuckshut up  morning to me  yay sunwoowetheboyz ilyisttheboyz thank you hyunjaeoh my god world stop  omgisttheboyz whati love him  my hak  yay hakwetheboyz my loveforever 11 lt3okay but no bloom bloom \\xf0\\x9f\\xa5\\xb9\\xf0\\x9f\\xa5\\xb9i would have fucking collapsed what  proud of thembet on youddd my belovedtheyre the cutest fr actually gonna cry  bloom bloom\\xe2\\x80\\xa6 no bloom bloomthis   \\xf0\\x9f\\xa5\\xb9\\xf0\\x9f\\xa5\\xb9\\xf0\\x9f\\xa5\\xb9\\xf0\\x9f\\xa5\\xb9\\xf0\\x9f\\x98\\x81also the birthday surprise for jacob thats so cutei keep on saying that i will log off for my mental health but the thought of missing out when they are in the red o\\xe2\\x80\\xa6  have survived this irl  red outfits are so prettywhat  my chanhee  cannot i cannot i cannot  checkmate omgi need to see haklord  juyeon\\xf0\\x9f\\xa5\\xb9  off \\xf0\\x9f\\x98\\xad\\xf0\\x9f\\x98\\xad\\xf0\\x9f\\x98\\xad\\xf0\\x9f\\x98\\xad\\xf0\\x9f\\x98\\xad\\xf0\\x9f\\x98\\xad\\xf0\\x9f\\x98\\xad\\xf0\\x9f\\x98\\xadmay we get a lot of haknyeon pics today or i will screamone day one day they will come to singapore  jacob day \\xe2\\x9d\\xa4\\xef\\xb8\\x8f\\n\\n\\xeb\\x94\\xb0\\xec\\x8a\\xa4\\xed\\x95\\xa8\\xec\\x9c\\xbc\\xeb\\xa1\\x9c\\xeb\\xac\\xbc\\xeb\\x93\\xa0\\xec\\xa0\\x9c\\xec\\x9d\\xb4\\xec\\xbd\\xa5\\xec\\x9d\\x98\\xec\\x8a\\xa4\\xeb\\xac\\xbc\\xec\\x97\\xac\\xec\\x84\\xaf\\nourangeljacobdayhappy jacob day lt3  going to sleep through the whole theb zone concert tmr definitely not because i cannot go to oneokay younghoon has an undercut and i only know about it nowkev hyunjae younghoon \\xf0\\x9f\\xa5\\xb9\\xf0\\x9f\\xa5\\xb9\\xf0\\x9f\\xa5\\xb9not now please why is always when im outside\\xf0\\x9f\\x98\\xad\\xf0\\x9f\\x98\\xad\\xf0\\x9f\\x98\\xad\\xf0\\x9f\\x98\\xad  my god prettiest hak  hak my favourite hakcherry hak wdym wdym wdymmy loves  the prettiest  mf late to the pink chanhee but omg pink chanheewetheboyz i love you so so much \\xf0\\x9f\\xab\\xb6\\xf0\\x9f\\xab\\xb6\\xf0\\x9f\\xab\\xb6jichang  ily'"
            ]
          },
          "metadata": {},
          "execution_count": 26
        }
      ]
    },
    {
      "cell_type": "code",
      "source": [
        "type(text)"
      ],
      "metadata": {
        "id": "plJUb7P7KQ_z",
        "colab": {
          "base_uri": "https://localhost:8080/"
        },
        "outputId": "180fa834-3663-4de5-d1dc-cd6981de0068"
      },
      "execution_count": 27,
      "outputs": [
        {
          "output_type": "execute_result",
          "data": {
            "text/plain": [
              "pandas.core.series.Series"
            ]
          },
          "metadata": {},
          "execution_count": 27
        }
      ]
    },
    {
      "cell_type": "code",
      "source": [
        "test=[[text]]\n",
        "text"
      ],
      "metadata": {
        "id": "RV4D21gwKYwB",
        "colab": {
          "base_uri": "https://localhost:8080/"
        },
        "outputId": "6f224429-37eb-4364-d704-959581117644"
      },
      "execution_count": 28,
      "outputs": [
        {
          "output_type": "execute_result",
          "data": {
            "text/plain": [
              "0       pericles216 hierbeforetheac sachinettiyil the ...\n",
              "1       hispanthicckk being you makes you look cutethi...\n",
              "2       alshymi les balles sont réelles et sont tirées...\n",
              "3       im like entp but idiotichey boy do you want to...\n",
              "4       kaeshurr1 give it to zargarshanif  he has pica...\n",
              "                              ...                        \n",
              "7806    sobsjjun godpls take care 😕sobsjjun hiro emerg...\n",
              "7807    ignis02 wow last time i got intp    i think u ...\n",
              "7808    akupilled a 100akupilled that someone will get...\n",
              "7809    if you’re intj this one is for you  what is ne...\n",
              "7810    harrylambert gucci hey can you dm me a pic of ...\n",
              "Name: text, Length: 7811, dtype: object"
            ]
          },
          "metadata": {},
          "execution_count": 28
        }
      ]
    },
    {
      "cell_type": "code",
      "source": [
        "text = pd.DataFrame(text)\n",
        "text"
      ],
      "metadata": {
        "id": "lA2R2OKoKgYU",
        "colab": {
          "base_uri": "https://localhost:8080/",
          "height": 424
        },
        "outputId": "c8524eca-9df0-4ac9-fefc-0cf9c655e1e1"
      },
      "execution_count": 29,
      "outputs": [
        {
          "output_type": "execute_result",
          "data": {
            "text/plain": [
              "                                                   text\n",
              "0     pericles216 hierbeforetheac sachinettiyil the ...\n",
              "1     hispanthicckk being you makes you look cutethi...\n",
              "2     alshymi les balles sont réelles et sont tirées...\n",
              "3     im like entp but idiotichey boy do you want to...\n",
              "4     kaeshurr1 give it to zargarshanif  he has pica...\n",
              "...                                                 ...\n",
              "7806  sobsjjun godpls take care 😕sobsjjun hiro emerg...\n",
              "7807  ignis02 wow last time i got intp    i think u ...\n",
              "7808  akupilled a 100akupilled that someone will get...\n",
              "7809  if you’re intj this one is for you  what is ne...\n",
              "7810  harrylambert gucci hey can you dm me a pic of ...\n",
              "\n",
              "[7811 rows x 1 columns]"
            ],
            "text/html": [
              "\n",
              "  <div id=\"df-6fcd2283-bc33-4498-8b74-ed5d2000dbdb\">\n",
              "    <div class=\"colab-df-container\">\n",
              "      <div>\n",
              "<style scoped>\n",
              "    .dataframe tbody tr th:only-of-type {\n",
              "        vertical-align: middle;\n",
              "    }\n",
              "\n",
              "    .dataframe tbody tr th {\n",
              "        vertical-align: top;\n",
              "    }\n",
              "\n",
              "    .dataframe thead th {\n",
              "        text-align: right;\n",
              "    }\n",
              "</style>\n",
              "<table border=\"1\" class=\"dataframe\">\n",
              "  <thead>\n",
              "    <tr style=\"text-align: right;\">\n",
              "      <th></th>\n",
              "      <th>text</th>\n",
              "    </tr>\n",
              "  </thead>\n",
              "  <tbody>\n",
              "    <tr>\n",
              "      <th>0</th>\n",
              "      <td>pericles216 hierbeforetheac sachinettiyil the ...</td>\n",
              "    </tr>\n",
              "    <tr>\n",
              "      <th>1</th>\n",
              "      <td>hispanthicckk being you makes you look cutethi...</td>\n",
              "    </tr>\n",
              "    <tr>\n",
              "      <th>2</th>\n",
              "      <td>alshymi les balles sont réelles et sont tirées...</td>\n",
              "    </tr>\n",
              "    <tr>\n",
              "      <th>3</th>\n",
              "      <td>im like entp but idiotichey boy do you want to...</td>\n",
              "    </tr>\n",
              "    <tr>\n",
              "      <th>4</th>\n",
              "      <td>kaeshurr1 give it to zargarshanif  he has pica...</td>\n",
              "    </tr>\n",
              "    <tr>\n",
              "      <th>...</th>\n",
              "      <td>...</td>\n",
              "    </tr>\n",
              "    <tr>\n",
              "      <th>7806</th>\n",
              "      <td>sobsjjun godpls take care 😕sobsjjun hiro emerg...</td>\n",
              "    </tr>\n",
              "    <tr>\n",
              "      <th>7807</th>\n",
              "      <td>ignis02 wow last time i got intp    i think u ...</td>\n",
              "    </tr>\n",
              "    <tr>\n",
              "      <th>7808</th>\n",
              "      <td>akupilled a 100akupilled that someone will get...</td>\n",
              "    </tr>\n",
              "    <tr>\n",
              "      <th>7809</th>\n",
              "      <td>if you’re intj this one is for you  what is ne...</td>\n",
              "    </tr>\n",
              "    <tr>\n",
              "      <th>7810</th>\n",
              "      <td>harrylambert gucci hey can you dm me a pic of ...</td>\n",
              "    </tr>\n",
              "  </tbody>\n",
              "</table>\n",
              "<p>7811 rows × 1 columns</p>\n",
              "</div>\n",
              "      <button class=\"colab-df-convert\" onclick=\"convertToInteractive('df-6fcd2283-bc33-4498-8b74-ed5d2000dbdb')\"\n",
              "              title=\"Convert this dataframe to an interactive table.\"\n",
              "              style=\"display:none;\">\n",
              "        \n",
              "  <svg xmlns=\"http://www.w3.org/2000/svg\" height=\"24px\"viewBox=\"0 0 24 24\"\n",
              "       width=\"24px\">\n",
              "    <path d=\"M0 0h24v24H0V0z\" fill=\"none\"/>\n",
              "    <path d=\"M18.56 5.44l.94 2.06.94-2.06 2.06-.94-2.06-.94-.94-2.06-.94 2.06-2.06.94zm-11 1L8.5 8.5l.94-2.06 2.06-.94-2.06-.94L8.5 2.5l-.94 2.06-2.06.94zm10 10l.94 2.06.94-2.06 2.06-.94-2.06-.94-.94-2.06-.94 2.06-2.06.94z\"/><path d=\"M17.41 7.96l-1.37-1.37c-.4-.4-.92-.59-1.43-.59-.52 0-1.04.2-1.43.59L10.3 9.45l-7.72 7.72c-.78.78-.78 2.05 0 2.83L4 21.41c.39.39.9.59 1.41.59.51 0 1.02-.2 1.41-.59l7.78-7.78 2.81-2.81c.8-.78.8-2.07 0-2.86zM5.41 20L4 18.59l7.72-7.72 1.47 1.35L5.41 20z\"/>\n",
              "  </svg>\n",
              "      </button>\n",
              "      \n",
              "  <style>\n",
              "    .colab-df-container {\n",
              "      display:flex;\n",
              "      flex-wrap:wrap;\n",
              "      gap: 12px;\n",
              "    }\n",
              "\n",
              "    .colab-df-convert {\n",
              "      background-color: #E8F0FE;\n",
              "      border: none;\n",
              "      border-radius: 50%;\n",
              "      cursor: pointer;\n",
              "      display: none;\n",
              "      fill: #1967D2;\n",
              "      height: 32px;\n",
              "      padding: 0 0 0 0;\n",
              "      width: 32px;\n",
              "    }\n",
              "\n",
              "    .colab-df-convert:hover {\n",
              "      background-color: #E2EBFA;\n",
              "      box-shadow: 0px 1px 2px rgba(60, 64, 67, 0.3), 0px 1px 3px 1px rgba(60, 64, 67, 0.15);\n",
              "      fill: #174EA6;\n",
              "    }\n",
              "\n",
              "    [theme=dark] .colab-df-convert {\n",
              "      background-color: #3B4455;\n",
              "      fill: #D2E3FC;\n",
              "    }\n",
              "\n",
              "    [theme=dark] .colab-df-convert:hover {\n",
              "      background-color: #434B5C;\n",
              "      box-shadow: 0px 1px 3px 1px rgba(0, 0, 0, 0.15);\n",
              "      filter: drop-shadow(0px 1px 2px rgba(0, 0, 0, 0.3));\n",
              "      fill: #FFFFFF;\n",
              "    }\n",
              "  </style>\n",
              "\n",
              "      <script>\n",
              "        const buttonEl =\n",
              "          document.querySelector('#df-6fcd2283-bc33-4498-8b74-ed5d2000dbdb button.colab-df-convert');\n",
              "        buttonEl.style.display =\n",
              "          google.colab.kernel.accessAllowed ? 'block' : 'none';\n",
              "\n",
              "        async function convertToInteractive(key) {\n",
              "          const element = document.querySelector('#df-6fcd2283-bc33-4498-8b74-ed5d2000dbdb');\n",
              "          const dataTable =\n",
              "            await google.colab.kernel.invokeFunction('convertToInteractive',\n",
              "                                                     [key], {});\n",
              "          if (!dataTable) return;\n",
              "\n",
              "          const docLinkHtml = 'Like what you see? Visit the ' +\n",
              "            '<a target=\"_blank\" href=https://colab.research.google.com/notebooks/data_table.ipynb>data table notebook</a>'\n",
              "            + ' to learn more about interactive tables.';\n",
              "          element.innerHTML = '';\n",
              "          dataTable['output_type'] = 'display_data';\n",
              "          await google.colab.output.renderOutput(dataTable, element);\n",
              "          const docLink = document.createElement('div');\n",
              "          docLink.innerHTML = docLinkHtml;\n",
              "          element.appendChild(docLink);\n",
              "        }\n",
              "      </script>\n",
              "    </div>\n",
              "  </div>\n",
              "  "
            ]
          },
          "metadata": {},
          "execution_count": 29
        }
      ]
    },
    {
      "cell_type": "code",
      "source": [
        "type(text)"
      ],
      "metadata": {
        "id": "xxASV68EKoC1",
        "colab": {
          "base_uri": "https://localhost:8080/"
        },
        "outputId": "4b8c9d0f-64a6-459c-ddd8-493b64945df2"
      },
      "execution_count": 30,
      "outputs": [
        {
          "output_type": "execute_result",
          "data": {
            "text/plain": [
              "pandas.core.frame.DataFrame"
            ]
          },
          "metadata": {},
          "execution_count": 30
        }
      ]
    },
    {
      "cell_type": "code",
      "source": [
        "import emoji\n",
        "text=text.astype(str).apply(lambda x:x.str.encode('ascii','ignore').str.decode('latin-1'))"
      ],
      "metadata": {
        "id": "1z5vz3Y3KrcE"
      },
      "execution_count": 31,
      "outputs": []
    },
    {
      "cell_type": "code",
      "source": [
        "text.shape"
      ],
      "metadata": {
        "id": "YNGmDX3aLqE_",
        "colab": {
          "base_uri": "https://localhost:8080/"
        },
        "outputId": "1f12cdb1-359a-4f93-f516-6eb1cca1fc05"
      },
      "execution_count": 32,
      "outputs": [
        {
          "output_type": "execute_result",
          "data": {
            "text/plain": [
              "(7811, 1)"
            ]
          },
          "metadata": {},
          "execution_count": 32
        }
      ]
    },
    {
      "cell_type": "code",
      "source": [
        "text[7606:7607]"
      ],
      "metadata": {
        "id": "uBFRy7pSL045",
        "colab": {
          "base_uri": "https://localhost:8080/",
          "height": 81
        },
        "outputId": "4fc2befc-c7dc-42a1-acbc-82ffdd929e66"
      },
      "execution_count": 33,
      "outputs": [
        {
          "output_type": "execute_result",
          "data": {
            "text/plain": [
              "                                                   text\n",
              "7606  guys omg  so happy they got to meet again  say..."
            ],
            "text/html": [
              "\n",
              "  <div id=\"df-5f6fca5e-59b7-4354-8428-fd6fe12659a7\">\n",
              "    <div class=\"colab-df-container\">\n",
              "      <div>\n",
              "<style scoped>\n",
              "    .dataframe tbody tr th:only-of-type {\n",
              "        vertical-align: middle;\n",
              "    }\n",
              "\n",
              "    .dataframe tbody tr th {\n",
              "        vertical-align: top;\n",
              "    }\n",
              "\n",
              "    .dataframe thead th {\n",
              "        text-align: right;\n",
              "    }\n",
              "</style>\n",
              "<table border=\"1\" class=\"dataframe\">\n",
              "  <thead>\n",
              "    <tr style=\"text-align: right;\">\n",
              "      <th></th>\n",
              "      <th>text</th>\n",
              "    </tr>\n",
              "  </thead>\n",
              "  <tbody>\n",
              "    <tr>\n",
              "      <th>7606</th>\n",
              "      <td>guys omg  so happy they got to meet again  say...</td>\n",
              "    </tr>\n",
              "  </tbody>\n",
              "</table>\n",
              "</div>\n",
              "      <button class=\"colab-df-convert\" onclick=\"convertToInteractive('df-5f6fca5e-59b7-4354-8428-fd6fe12659a7')\"\n",
              "              title=\"Convert this dataframe to an interactive table.\"\n",
              "              style=\"display:none;\">\n",
              "        \n",
              "  <svg xmlns=\"http://www.w3.org/2000/svg\" height=\"24px\"viewBox=\"0 0 24 24\"\n",
              "       width=\"24px\">\n",
              "    <path d=\"M0 0h24v24H0V0z\" fill=\"none\"/>\n",
              "    <path d=\"M18.56 5.44l.94 2.06.94-2.06 2.06-.94-2.06-.94-.94-2.06-.94 2.06-2.06.94zm-11 1L8.5 8.5l.94-2.06 2.06-.94-2.06-.94L8.5 2.5l-.94 2.06-2.06.94zm10 10l.94 2.06.94-2.06 2.06-.94-2.06-.94-.94-2.06-.94 2.06-2.06.94z\"/><path d=\"M17.41 7.96l-1.37-1.37c-.4-.4-.92-.59-1.43-.59-.52 0-1.04.2-1.43.59L10.3 9.45l-7.72 7.72c-.78.78-.78 2.05 0 2.83L4 21.41c.39.39.9.59 1.41.59.51 0 1.02-.2 1.41-.59l7.78-7.78 2.81-2.81c.8-.78.8-2.07 0-2.86zM5.41 20L4 18.59l7.72-7.72 1.47 1.35L5.41 20z\"/>\n",
              "  </svg>\n",
              "      </button>\n",
              "      \n",
              "  <style>\n",
              "    .colab-df-container {\n",
              "      display:flex;\n",
              "      flex-wrap:wrap;\n",
              "      gap: 12px;\n",
              "    }\n",
              "\n",
              "    .colab-df-convert {\n",
              "      background-color: #E8F0FE;\n",
              "      border: none;\n",
              "      border-radius: 50%;\n",
              "      cursor: pointer;\n",
              "      display: none;\n",
              "      fill: #1967D2;\n",
              "      height: 32px;\n",
              "      padding: 0 0 0 0;\n",
              "      width: 32px;\n",
              "    }\n",
              "\n",
              "    .colab-df-convert:hover {\n",
              "      background-color: #E2EBFA;\n",
              "      box-shadow: 0px 1px 2px rgba(60, 64, 67, 0.3), 0px 1px 3px 1px rgba(60, 64, 67, 0.15);\n",
              "      fill: #174EA6;\n",
              "    }\n",
              "\n",
              "    [theme=dark] .colab-df-convert {\n",
              "      background-color: #3B4455;\n",
              "      fill: #D2E3FC;\n",
              "    }\n",
              "\n",
              "    [theme=dark] .colab-df-convert:hover {\n",
              "      background-color: #434B5C;\n",
              "      box-shadow: 0px 1px 3px 1px rgba(0, 0, 0, 0.15);\n",
              "      filter: drop-shadow(0px 1px 2px rgba(0, 0, 0, 0.3));\n",
              "      fill: #FFFFFF;\n",
              "    }\n",
              "  </style>\n",
              "\n",
              "      <script>\n",
              "        const buttonEl =\n",
              "          document.querySelector('#df-5f6fca5e-59b7-4354-8428-fd6fe12659a7 button.colab-df-convert');\n",
              "        buttonEl.style.display =\n",
              "          google.colab.kernel.accessAllowed ? 'block' : 'none';\n",
              "\n",
              "        async function convertToInteractive(key) {\n",
              "          const element = document.querySelector('#df-5f6fca5e-59b7-4354-8428-fd6fe12659a7');\n",
              "          const dataTable =\n",
              "            await google.colab.kernel.invokeFunction('convertToInteractive',\n",
              "                                                     [key], {});\n",
              "          if (!dataTable) return;\n",
              "\n",
              "          const docLinkHtml = 'Like what you see? Visit the ' +\n",
              "            '<a target=\"_blank\" href=https://colab.research.google.com/notebooks/data_table.ipynb>data table notebook</a>'\n",
              "            + ' to learn more about interactive tables.';\n",
              "          element.innerHTML = '';\n",
              "          dataTable['output_type'] = 'display_data';\n",
              "          await google.colab.output.renderOutput(dataTable, element);\n",
              "          const docLink = document.createElement('div');\n",
              "          docLink.innerHTML = docLinkHtml;\n",
              "          element.appendChild(docLink);\n",
              "        }\n",
              "      </script>\n",
              "    </div>\n",
              "  </div>\n",
              "  "
            ]
          },
          "metadata": {},
          "execution_count": 33
        }
      ]
    },
    {
      "cell_type": "code",
      "source": [
        "text= text['text']"
      ],
      "metadata": {
        "id": "jr63WdhGL4pQ"
      },
      "execution_count": 34,
      "outputs": []
    },
    {
      "cell_type": "code",
      "source": [
        "text.shape"
      ],
      "metadata": {
        "id": "h9t6p7W8L90p",
        "colab": {
          "base_uri": "https://localhost:8080/"
        },
        "outputId": "c7bc0fd5-55c2-428a-fa21-693284f4f6ff"
      },
      "execution_count": 35,
      "outputs": [
        {
          "output_type": "execute_result",
          "data": {
            "text/plain": [
              "(7811,)"
            ]
          },
          "metadata": {},
          "execution_count": 35
        }
      ]
    },
    {
      "cell_type": "code",
      "source": [
        "type(text)"
      ],
      "metadata": {
        "id": "wCbbdJYOMBHe",
        "colab": {
          "base_uri": "https://localhost:8080/"
        },
        "outputId": "242a19b8-eed9-49fc-95c9-dcbc59f8257f"
      },
      "execution_count": 36,
      "outputs": [
        {
          "output_type": "execute_result",
          "data": {
            "text/plain": [
              "pandas.core.series.Series"
            ]
          },
          "metadata": {},
          "execution_count": 36
        }
      ]
    },
    {
      "cell_type": "code",
      "source": [
        "text"
      ],
      "metadata": {
        "id": "NJD2wctVMDmw",
        "colab": {
          "base_uri": "https://localhost:8080/"
        },
        "outputId": "8bc31f2f-334c-4586-c1b2-5b0849cf6a96"
      },
      "execution_count": 37,
      "outputs": [
        {
          "output_type": "execute_result",
          "data": {
            "text/plain": [
              "0       pericles216 hierbeforetheac sachinettiyil the ...\n",
              "1       hispanthicckk being you makes you look cutethi...\n",
              "2       alshymi les balles sont relles et sont tires t...\n",
              "3       im like entp but idiotichey boy do you want to...\n",
              "4       kaeshurr1 give it to zargarshanif  he has pica...\n",
              "                              ...                        \n",
              "7806    sobsjjun godpls take care sobsjjun hiro emerge...\n",
              "7807    ignis02 wow last time i got intp    i think u ...\n",
              "7808    akupilled a 100akupilled that someone will get...\n",
              "7809    if youre intj this one is for you  what is nev...\n",
              "7810    harrylambert gucci hey can you dm me a pic of ...\n",
              "Name: text, Length: 7811, dtype: object"
            ]
          },
          "metadata": {},
          "execution_count": 37
        }
      ]
    },
    {
      "cell_type": "code",
      "source": [
        "df['text']"
      ],
      "metadata": {
        "id": "NkHpYW1qME_q",
        "colab": {
          "base_uri": "https://localhost:8080/"
        },
        "outputId": "9665ba3d-7af7-4928-b5f5-d2fadecfe039"
      },
      "execution_count": 38,
      "outputs": [
        {
          "output_type": "execute_result",
          "data": {
            "text/plain": [
              "0       @Pericles216 @HierBeforeTheAC @Sachinettiyil T...\n",
              "1       @Hispanthicckk Being you makes you look cute||...\n",
              "2       @Alshymi Les balles sont réelles et sont tirée...\n",
              "3       I'm like entp but idiotic|||Hey boy, do you wa...\n",
              "4       @kaeshurr1 Give it to @ZargarShanif ... He has...\n",
              "                              ...                        \n",
              "7806    @sobsjjun God,,pls take care 😕|||@sobsjjun Hir...\n",
              "7807    @Ignis_02 wow last time i got intp https://t.c...\n",
              "7808    @akupilled A 100%|||@akupilled That SOMEONE wi...\n",
              "7809    If you’re #INTJ this one is for you | What is ...\n",
              "7810    @harry__lambert @gucci hey can you dm me a pic...\n",
              "Name: text, Length: 7811, dtype: object"
            ]
          },
          "metadata": {},
          "execution_count": 38
        }
      ]
    },
    {
      "cell_type": "markdown",
      "source": [
        "**12. Tokenization**\n"
      ],
      "metadata": {
        "id": "21c6Sei1mgKC"
      }
    },
    {
      "cell_type": "code",
      "source": [
        "from nltk.tokenize import word_tokenize,sent_tokenize"
      ],
      "metadata": {
        "id": "oSrk40skMK4n"
      },
      "execution_count": 39,
      "outputs": []
    },
    {
      "cell_type": "code",
      "source": [
        "text=pd.DataFrame(text)\n",
        "text"
      ],
      "metadata": {
        "id": "D2EeFjZSMXuj",
        "colab": {
          "base_uri": "https://localhost:8080/",
          "height": 424
        },
        "outputId": "ff6f2cd6-1b6c-4220-ccd1-caa31f5ad8ff"
      },
      "execution_count": 40,
      "outputs": [
        {
          "output_type": "execute_result",
          "data": {
            "text/plain": [
              "                                                   text\n",
              "0     pericles216 hierbeforetheac sachinettiyil the ...\n",
              "1     hispanthicckk being you makes you look cutethi...\n",
              "2     alshymi les balles sont relles et sont tires t...\n",
              "3     im like entp but idiotichey boy do you want to...\n",
              "4     kaeshurr1 give it to zargarshanif  he has pica...\n",
              "...                                                 ...\n",
              "7806  sobsjjun godpls take care sobsjjun hiro emerge...\n",
              "7807  ignis02 wow last time i got intp    i think u ...\n",
              "7808  akupilled a 100akupilled that someone will get...\n",
              "7809  if youre intj this one is for you  what is nev...\n",
              "7810  harrylambert gucci hey can you dm me a pic of ...\n",
              "\n",
              "[7811 rows x 1 columns]"
            ],
            "text/html": [
              "\n",
              "  <div id=\"df-02ff77d3-81ce-4835-8446-7f433d39aacc\">\n",
              "    <div class=\"colab-df-container\">\n",
              "      <div>\n",
              "<style scoped>\n",
              "    .dataframe tbody tr th:only-of-type {\n",
              "        vertical-align: middle;\n",
              "    }\n",
              "\n",
              "    .dataframe tbody tr th {\n",
              "        vertical-align: top;\n",
              "    }\n",
              "\n",
              "    .dataframe thead th {\n",
              "        text-align: right;\n",
              "    }\n",
              "</style>\n",
              "<table border=\"1\" class=\"dataframe\">\n",
              "  <thead>\n",
              "    <tr style=\"text-align: right;\">\n",
              "      <th></th>\n",
              "      <th>text</th>\n",
              "    </tr>\n",
              "  </thead>\n",
              "  <tbody>\n",
              "    <tr>\n",
              "      <th>0</th>\n",
              "      <td>pericles216 hierbeforetheac sachinettiyil the ...</td>\n",
              "    </tr>\n",
              "    <tr>\n",
              "      <th>1</th>\n",
              "      <td>hispanthicckk being you makes you look cutethi...</td>\n",
              "    </tr>\n",
              "    <tr>\n",
              "      <th>2</th>\n",
              "      <td>alshymi les balles sont relles et sont tires t...</td>\n",
              "    </tr>\n",
              "    <tr>\n",
              "      <th>3</th>\n",
              "      <td>im like entp but idiotichey boy do you want to...</td>\n",
              "    </tr>\n",
              "    <tr>\n",
              "      <th>4</th>\n",
              "      <td>kaeshurr1 give it to zargarshanif  he has pica...</td>\n",
              "    </tr>\n",
              "    <tr>\n",
              "      <th>...</th>\n",
              "      <td>...</td>\n",
              "    </tr>\n",
              "    <tr>\n",
              "      <th>7806</th>\n",
              "      <td>sobsjjun godpls take care sobsjjun hiro emerge...</td>\n",
              "    </tr>\n",
              "    <tr>\n",
              "      <th>7807</th>\n",
              "      <td>ignis02 wow last time i got intp    i think u ...</td>\n",
              "    </tr>\n",
              "    <tr>\n",
              "      <th>7808</th>\n",
              "      <td>akupilled a 100akupilled that someone will get...</td>\n",
              "    </tr>\n",
              "    <tr>\n",
              "      <th>7809</th>\n",
              "      <td>if youre intj this one is for you  what is nev...</td>\n",
              "    </tr>\n",
              "    <tr>\n",
              "      <th>7810</th>\n",
              "      <td>harrylambert gucci hey can you dm me a pic of ...</td>\n",
              "    </tr>\n",
              "  </tbody>\n",
              "</table>\n",
              "<p>7811 rows × 1 columns</p>\n",
              "</div>\n",
              "      <button class=\"colab-df-convert\" onclick=\"convertToInteractive('df-02ff77d3-81ce-4835-8446-7f433d39aacc')\"\n",
              "              title=\"Convert this dataframe to an interactive table.\"\n",
              "              style=\"display:none;\">\n",
              "        \n",
              "  <svg xmlns=\"http://www.w3.org/2000/svg\" height=\"24px\"viewBox=\"0 0 24 24\"\n",
              "       width=\"24px\">\n",
              "    <path d=\"M0 0h24v24H0V0z\" fill=\"none\"/>\n",
              "    <path d=\"M18.56 5.44l.94 2.06.94-2.06 2.06-.94-2.06-.94-.94-2.06-.94 2.06-2.06.94zm-11 1L8.5 8.5l.94-2.06 2.06-.94-2.06-.94L8.5 2.5l-.94 2.06-2.06.94zm10 10l.94 2.06.94-2.06 2.06-.94-2.06-.94-.94-2.06-.94 2.06-2.06.94z\"/><path d=\"M17.41 7.96l-1.37-1.37c-.4-.4-.92-.59-1.43-.59-.52 0-1.04.2-1.43.59L10.3 9.45l-7.72 7.72c-.78.78-.78 2.05 0 2.83L4 21.41c.39.39.9.59 1.41.59.51 0 1.02-.2 1.41-.59l7.78-7.78 2.81-2.81c.8-.78.8-2.07 0-2.86zM5.41 20L4 18.59l7.72-7.72 1.47 1.35L5.41 20z\"/>\n",
              "  </svg>\n",
              "      </button>\n",
              "      \n",
              "  <style>\n",
              "    .colab-df-container {\n",
              "      display:flex;\n",
              "      flex-wrap:wrap;\n",
              "      gap: 12px;\n",
              "    }\n",
              "\n",
              "    .colab-df-convert {\n",
              "      background-color: #E8F0FE;\n",
              "      border: none;\n",
              "      border-radius: 50%;\n",
              "      cursor: pointer;\n",
              "      display: none;\n",
              "      fill: #1967D2;\n",
              "      height: 32px;\n",
              "      padding: 0 0 0 0;\n",
              "      width: 32px;\n",
              "    }\n",
              "\n",
              "    .colab-df-convert:hover {\n",
              "      background-color: #E2EBFA;\n",
              "      box-shadow: 0px 1px 2px rgba(60, 64, 67, 0.3), 0px 1px 3px 1px rgba(60, 64, 67, 0.15);\n",
              "      fill: #174EA6;\n",
              "    }\n",
              "\n",
              "    [theme=dark] .colab-df-convert {\n",
              "      background-color: #3B4455;\n",
              "      fill: #D2E3FC;\n",
              "    }\n",
              "\n",
              "    [theme=dark] .colab-df-convert:hover {\n",
              "      background-color: #434B5C;\n",
              "      box-shadow: 0px 1px 3px 1px rgba(0, 0, 0, 0.15);\n",
              "      filter: drop-shadow(0px 1px 2px rgba(0, 0, 0, 0.3));\n",
              "      fill: #FFFFFF;\n",
              "    }\n",
              "  </style>\n",
              "\n",
              "      <script>\n",
              "        const buttonEl =\n",
              "          document.querySelector('#df-02ff77d3-81ce-4835-8446-7f433d39aacc button.colab-df-convert');\n",
              "        buttonEl.style.display =\n",
              "          google.colab.kernel.accessAllowed ? 'block' : 'none';\n",
              "\n",
              "        async function convertToInteractive(key) {\n",
              "          const element = document.querySelector('#df-02ff77d3-81ce-4835-8446-7f433d39aacc');\n",
              "          const dataTable =\n",
              "            await google.colab.kernel.invokeFunction('convertToInteractive',\n",
              "                                                     [key], {});\n",
              "          if (!dataTable) return;\n",
              "\n",
              "          const docLinkHtml = 'Like what you see? Visit the ' +\n",
              "            '<a target=\"_blank\" href=https://colab.research.google.com/notebooks/data_table.ipynb>data table notebook</a>'\n",
              "            + ' to learn more about interactive tables.';\n",
              "          element.innerHTML = '';\n",
              "          dataTable['output_type'] = 'display_data';\n",
              "          await google.colab.output.renderOutput(dataTable, element);\n",
              "          const docLink = document.createElement('div');\n",
              "          docLink.innerHTML = docLinkHtml;\n",
              "          element.appendChild(docLink);\n",
              "        }\n",
              "      </script>\n",
              "    </div>\n",
              "  </div>\n",
              "  "
            ]
          },
          "metadata": {},
          "execution_count": 40
        }
      ]
    },
    {
      "cell_type": "code",
      "source": [
        "text['text']"
      ],
      "metadata": {
        "id": "JHxge5NQMcHs",
        "colab": {
          "base_uri": "https://localhost:8080/"
        },
        "outputId": "f4d45525-3c23-4962-e3ab-4b0e183f9c08"
      },
      "execution_count": 41,
      "outputs": [
        {
          "output_type": "execute_result",
          "data": {
            "text/plain": [
              "0       pericles216 hierbeforetheac sachinettiyil the ...\n",
              "1       hispanthicckk being you makes you look cutethi...\n",
              "2       alshymi les balles sont relles et sont tires t...\n",
              "3       im like entp but idiotichey boy do you want to...\n",
              "4       kaeshurr1 give it to zargarshanif  he has pica...\n",
              "                              ...                        \n",
              "7806    sobsjjun godpls take care sobsjjun hiro emerge...\n",
              "7807    ignis02 wow last time i got intp    i think u ...\n",
              "7808    akupilled a 100akupilled that someone will get...\n",
              "7809    if youre intj this one is for you  what is nev...\n",
              "7810    harrylambert gucci hey can you dm me a pic of ...\n",
              "Name: text, Length: 7811, dtype: object"
            ]
          },
          "metadata": {},
          "execution_count": 41
        }
      ]
    },
    {
      "cell_type": "code",
      "source": [
        "sent_tokenize"
      ],
      "metadata": {
        "id": "HWidsyQkMjZa",
        "colab": {
          "base_uri": "https://localhost:8080/"
        },
        "outputId": "eb912d2f-aaf4-45ba-bc3e-4c37c9f2ad2d"
      },
      "execution_count": 42,
      "outputs": [
        {
          "output_type": "execute_result",
          "data": {
            "text/plain": [
              "<function nltk.tokenize.sent_tokenize(text, language='english')>"
            ]
          },
          "metadata": {},
          "execution_count": 42
        }
      ]
    },
    {
      "cell_type": "code",
      "source": [
        "import nltk\n",
        "nltk.download('punkt')\n",
        "word_tokenize= text['text'].apply(word_tokenize)\n",
        "word_tokenize"
      ],
      "metadata": {
        "id": "V42WIXCjMtDY",
        "colab": {
          "base_uri": "https://localhost:8080/"
        },
        "outputId": "b36b4ee2-1828-4a0e-8aff-10d7f3510e22"
      },
      "execution_count": 43,
      "outputs": [
        {
          "output_type": "stream",
          "name": "stderr",
          "text": [
            "[nltk_data] Downloading package punkt to /root/nltk_data...\n",
            "[nltk_data]   Unzipping tokenizers/punkt.zip.\n"
          ]
        },
        {
          "output_type": "execute_result",
          "data": {
            "text/plain": [
              "0       [pericles216, hierbeforetheac, sachinettiyil, ...\n",
              "1       [hispanthicckk, being, you, makes, you, look, ...\n",
              "2       [alshymi, les, balles, sont, relles, et, sont,...\n",
              "3       [im, like, entp, but, idiotichey, boy, do, you...\n",
              "4       [kaeshurr1, give, it, to, zargarshanif, he, ha...\n",
              "                              ...                        \n",
              "7806    [sobsjjun, godpls, take, care, sobsjjun, hiro,...\n",
              "7807    [ignis02, wow, last, time, i, got, intp, i, th...\n",
              "7808    [akupilled, a, 100akupilled, that, someone, wi...\n",
              "7809    [if, youre, intj, this, one, is, for, you, wha...\n",
              "7810    [harrylambert, gucci, hey, can, you, dm, me, a...\n",
              "Name: text, Length: 7811, dtype: object"
            ]
          },
          "metadata": {},
          "execution_count": 43
        }
      ]
    },
    {
      "cell_type": "code",
      "source": [
        "text1=pd.DataFrame(word_tokenize)\n",
        "text['text']"
      ],
      "metadata": {
        "id": "eDDfF-SlOSHm",
        "colab": {
          "base_uri": "https://localhost:8080/"
        },
        "outputId": "ecdad7bf-081e-420b-dfbb-e8d33370e1cd"
      },
      "execution_count": 44,
      "outputs": [
        {
          "output_type": "execute_result",
          "data": {
            "text/plain": [
              "0       pericles216 hierbeforetheac sachinettiyil the ...\n",
              "1       hispanthicckk being you makes you look cutethi...\n",
              "2       alshymi les balles sont relles et sont tires t...\n",
              "3       im like entp but idiotichey boy do you want to...\n",
              "4       kaeshurr1 give it to zargarshanif  he has pica...\n",
              "                              ...                        \n",
              "7806    sobsjjun godpls take care sobsjjun hiro emerge...\n",
              "7807    ignis02 wow last time i got intp    i think u ...\n",
              "7808    akupilled a 100akupilled that someone will get...\n",
              "7809    if youre intj this one is for you  what is nev...\n",
              "7810    harrylambert gucci hey can you dm me a pic of ...\n",
              "Name: text, Length: 7811, dtype: object"
            ]
          },
          "metadata": {},
          "execution_count": 44
        }
      ]
    },
    {
      "cell_type": "code",
      "source": [
        "text[7809:7810]"
      ],
      "metadata": {
        "id": "yQOOuGKiOdEC",
        "colab": {
          "base_uri": "https://localhost:8080/",
          "height": 81
        },
        "outputId": "b5dc70d1-e9ac-4ee5-f431-01fd9ccb961f"
      },
      "execution_count": 45,
      "outputs": [
        {
          "output_type": "execute_result",
          "data": {
            "text/plain": [
              "                                                   text\n",
              "7809  if youre intj this one is for you  what is nev..."
            ],
            "text/html": [
              "\n",
              "  <div id=\"df-55678d4d-2b99-4bcb-ab85-a2559e13ee13\">\n",
              "    <div class=\"colab-df-container\">\n",
              "      <div>\n",
              "<style scoped>\n",
              "    .dataframe tbody tr th:only-of-type {\n",
              "        vertical-align: middle;\n",
              "    }\n",
              "\n",
              "    .dataframe tbody tr th {\n",
              "        vertical-align: top;\n",
              "    }\n",
              "\n",
              "    .dataframe thead th {\n",
              "        text-align: right;\n",
              "    }\n",
              "</style>\n",
              "<table border=\"1\" class=\"dataframe\">\n",
              "  <thead>\n",
              "    <tr style=\"text-align: right;\">\n",
              "      <th></th>\n",
              "      <th>text</th>\n",
              "    </tr>\n",
              "  </thead>\n",
              "  <tbody>\n",
              "    <tr>\n",
              "      <th>7809</th>\n",
              "      <td>if youre intj this one is for you  what is nev...</td>\n",
              "    </tr>\n",
              "  </tbody>\n",
              "</table>\n",
              "</div>\n",
              "      <button class=\"colab-df-convert\" onclick=\"convertToInteractive('df-55678d4d-2b99-4bcb-ab85-a2559e13ee13')\"\n",
              "              title=\"Convert this dataframe to an interactive table.\"\n",
              "              style=\"display:none;\">\n",
              "        \n",
              "  <svg xmlns=\"http://www.w3.org/2000/svg\" height=\"24px\"viewBox=\"0 0 24 24\"\n",
              "       width=\"24px\">\n",
              "    <path d=\"M0 0h24v24H0V0z\" fill=\"none\"/>\n",
              "    <path d=\"M18.56 5.44l.94 2.06.94-2.06 2.06-.94-2.06-.94-.94-2.06-.94 2.06-2.06.94zm-11 1L8.5 8.5l.94-2.06 2.06-.94-2.06-.94L8.5 2.5l-.94 2.06-2.06.94zm10 10l.94 2.06.94-2.06 2.06-.94-2.06-.94-.94-2.06-.94 2.06-2.06.94z\"/><path d=\"M17.41 7.96l-1.37-1.37c-.4-.4-.92-.59-1.43-.59-.52 0-1.04.2-1.43.59L10.3 9.45l-7.72 7.72c-.78.78-.78 2.05 0 2.83L4 21.41c.39.39.9.59 1.41.59.51 0 1.02-.2 1.41-.59l7.78-7.78 2.81-2.81c.8-.78.8-2.07 0-2.86zM5.41 20L4 18.59l7.72-7.72 1.47 1.35L5.41 20z\"/>\n",
              "  </svg>\n",
              "      </button>\n",
              "      \n",
              "  <style>\n",
              "    .colab-df-container {\n",
              "      display:flex;\n",
              "      flex-wrap:wrap;\n",
              "      gap: 12px;\n",
              "    }\n",
              "\n",
              "    .colab-df-convert {\n",
              "      background-color: #E8F0FE;\n",
              "      border: none;\n",
              "      border-radius: 50%;\n",
              "      cursor: pointer;\n",
              "      display: none;\n",
              "      fill: #1967D2;\n",
              "      height: 32px;\n",
              "      padding: 0 0 0 0;\n",
              "      width: 32px;\n",
              "    }\n",
              "\n",
              "    .colab-df-convert:hover {\n",
              "      background-color: #E2EBFA;\n",
              "      box-shadow: 0px 1px 2px rgba(60, 64, 67, 0.3), 0px 1px 3px 1px rgba(60, 64, 67, 0.15);\n",
              "      fill: #174EA6;\n",
              "    }\n",
              "\n",
              "    [theme=dark] .colab-df-convert {\n",
              "      background-color: #3B4455;\n",
              "      fill: #D2E3FC;\n",
              "    }\n",
              "\n",
              "    [theme=dark] .colab-df-convert:hover {\n",
              "      background-color: #434B5C;\n",
              "      box-shadow: 0px 1px 3px 1px rgba(0, 0, 0, 0.15);\n",
              "      filter: drop-shadow(0px 1px 2px rgba(0, 0, 0, 0.3));\n",
              "      fill: #FFFFFF;\n",
              "    }\n",
              "  </style>\n",
              "\n",
              "      <script>\n",
              "        const buttonEl =\n",
              "          document.querySelector('#df-55678d4d-2b99-4bcb-ab85-a2559e13ee13 button.colab-df-convert');\n",
              "        buttonEl.style.display =\n",
              "          google.colab.kernel.accessAllowed ? 'block' : 'none';\n",
              "\n",
              "        async function convertToInteractive(key) {\n",
              "          const element = document.querySelector('#df-55678d4d-2b99-4bcb-ab85-a2559e13ee13');\n",
              "          const dataTable =\n",
              "            await google.colab.kernel.invokeFunction('convertToInteractive',\n",
              "                                                     [key], {});\n",
              "          if (!dataTable) return;\n",
              "\n",
              "          const docLinkHtml = 'Like what you see? Visit the ' +\n",
              "            '<a target=\"_blank\" href=https://colab.research.google.com/notebooks/data_table.ipynb>data table notebook</a>'\n",
              "            + ' to learn more about interactive tables.';\n",
              "          element.innerHTML = '';\n",
              "          dataTable['output_type'] = 'display_data';\n",
              "          await google.colab.output.renderOutput(dataTable, element);\n",
              "          const docLink = document.createElement('div');\n",
              "          docLink.innerHTML = docLinkHtml;\n",
              "          element.appendChild(docLink);\n",
              "        }\n",
              "      </script>\n",
              "    </div>\n",
              "  </div>\n",
              "  "
            ]
          },
          "metadata": {},
          "execution_count": 45
        }
      ]
    },
    {
      "cell_type": "markdown",
      "source": [
        "**FEATURE ENGINEERING**\n",
        "\n",
        "*13. CountVectorizer*"
      ],
      "metadata": {
        "id": "NdqJDBKqnF23"
      }
    },
    {
      "cell_type": "code",
      "source": [
        "from sklearn.feature_extraction.text import CountVectorizer\n",
        "cv = CountVectorizer()\n",
        "x1 = cv.fit_transform(text[7809:7810])\n",
        "x1.shape"
      ],
      "metadata": {
        "id": "UNaTcXKPOysY",
        "colab": {
          "base_uri": "https://localhost:8080/"
        },
        "outputId": "87077012-f428-4f2f-df90-3192a0c22d24"
      },
      "execution_count": 46,
      "outputs": [
        {
          "output_type": "execute_result",
          "data": {
            "text/plain": [
              "(1, 1)"
            ]
          },
          "metadata": {},
          "execution_count": 46
        }
      ]
    },
    {
      "cell_type": "code",
      "source": [
        "x1"
      ],
      "metadata": {
        "id": "KLRgSww3PCS3",
        "colab": {
          "base_uri": "https://localhost:8080/"
        },
        "outputId": "00eeba4f-a49a-4690-b2e3-6838f1457cf5"
      },
      "execution_count": 47,
      "outputs": [
        {
          "output_type": "execute_result",
          "data": {
            "text/plain": [
              "<1x1 sparse matrix of type '<class 'numpy.int64'>'\n",
              "\twith 1 stored elements in Compressed Sparse Row format>"
            ]
          },
          "metadata": {},
          "execution_count": 47
        }
      ]
    },
    {
      "cell_type": "code",
      "source": [
        "text[['text']]"
      ],
      "metadata": {
        "id": "8bBjRUcVPG3_",
        "colab": {
          "base_uri": "https://localhost:8080/",
          "height": 424
        },
        "outputId": "c04ea76f-98ed-41a6-8cbd-8251de92c7a7"
      },
      "execution_count": 48,
      "outputs": [
        {
          "output_type": "execute_result",
          "data": {
            "text/plain": [
              "                                                   text\n",
              "0     pericles216 hierbeforetheac sachinettiyil the ...\n",
              "1     hispanthicckk being you makes you look cutethi...\n",
              "2     alshymi les balles sont relles et sont tires t...\n",
              "3     im like entp but idiotichey boy do you want to...\n",
              "4     kaeshurr1 give it to zargarshanif  he has pica...\n",
              "...                                                 ...\n",
              "7806  sobsjjun godpls take care sobsjjun hiro emerge...\n",
              "7807  ignis02 wow last time i got intp    i think u ...\n",
              "7808  akupilled a 100akupilled that someone will get...\n",
              "7809  if youre intj this one is for you  what is nev...\n",
              "7810  harrylambert gucci hey can you dm me a pic of ...\n",
              "\n",
              "[7811 rows x 1 columns]"
            ],
            "text/html": [
              "\n",
              "  <div id=\"df-896840e9-141a-49a1-a7c8-579a0c519d29\">\n",
              "    <div class=\"colab-df-container\">\n",
              "      <div>\n",
              "<style scoped>\n",
              "    .dataframe tbody tr th:only-of-type {\n",
              "        vertical-align: middle;\n",
              "    }\n",
              "\n",
              "    .dataframe tbody tr th {\n",
              "        vertical-align: top;\n",
              "    }\n",
              "\n",
              "    .dataframe thead th {\n",
              "        text-align: right;\n",
              "    }\n",
              "</style>\n",
              "<table border=\"1\" class=\"dataframe\">\n",
              "  <thead>\n",
              "    <tr style=\"text-align: right;\">\n",
              "      <th></th>\n",
              "      <th>text</th>\n",
              "    </tr>\n",
              "  </thead>\n",
              "  <tbody>\n",
              "    <tr>\n",
              "      <th>0</th>\n",
              "      <td>pericles216 hierbeforetheac sachinettiyil the ...</td>\n",
              "    </tr>\n",
              "    <tr>\n",
              "      <th>1</th>\n",
              "      <td>hispanthicckk being you makes you look cutethi...</td>\n",
              "    </tr>\n",
              "    <tr>\n",
              "      <th>2</th>\n",
              "      <td>alshymi les balles sont relles et sont tires t...</td>\n",
              "    </tr>\n",
              "    <tr>\n",
              "      <th>3</th>\n",
              "      <td>im like entp but idiotichey boy do you want to...</td>\n",
              "    </tr>\n",
              "    <tr>\n",
              "      <th>4</th>\n",
              "      <td>kaeshurr1 give it to zargarshanif  he has pica...</td>\n",
              "    </tr>\n",
              "    <tr>\n",
              "      <th>...</th>\n",
              "      <td>...</td>\n",
              "    </tr>\n",
              "    <tr>\n",
              "      <th>7806</th>\n",
              "      <td>sobsjjun godpls take care sobsjjun hiro emerge...</td>\n",
              "    </tr>\n",
              "    <tr>\n",
              "      <th>7807</th>\n",
              "      <td>ignis02 wow last time i got intp    i think u ...</td>\n",
              "    </tr>\n",
              "    <tr>\n",
              "      <th>7808</th>\n",
              "      <td>akupilled a 100akupilled that someone will get...</td>\n",
              "    </tr>\n",
              "    <tr>\n",
              "      <th>7809</th>\n",
              "      <td>if youre intj this one is for you  what is nev...</td>\n",
              "    </tr>\n",
              "    <tr>\n",
              "      <th>7810</th>\n",
              "      <td>harrylambert gucci hey can you dm me a pic of ...</td>\n",
              "    </tr>\n",
              "  </tbody>\n",
              "</table>\n",
              "<p>7811 rows × 1 columns</p>\n",
              "</div>\n",
              "      <button class=\"colab-df-convert\" onclick=\"convertToInteractive('df-896840e9-141a-49a1-a7c8-579a0c519d29')\"\n",
              "              title=\"Convert this dataframe to an interactive table.\"\n",
              "              style=\"display:none;\">\n",
              "        \n",
              "  <svg xmlns=\"http://www.w3.org/2000/svg\" height=\"24px\"viewBox=\"0 0 24 24\"\n",
              "       width=\"24px\">\n",
              "    <path d=\"M0 0h24v24H0V0z\" fill=\"none\"/>\n",
              "    <path d=\"M18.56 5.44l.94 2.06.94-2.06 2.06-.94-2.06-.94-.94-2.06-.94 2.06-2.06.94zm-11 1L8.5 8.5l.94-2.06 2.06-.94-2.06-.94L8.5 2.5l-.94 2.06-2.06.94zm10 10l.94 2.06.94-2.06 2.06-.94-2.06-.94-.94-2.06-.94 2.06-2.06.94z\"/><path d=\"M17.41 7.96l-1.37-1.37c-.4-.4-.92-.59-1.43-.59-.52 0-1.04.2-1.43.59L10.3 9.45l-7.72 7.72c-.78.78-.78 2.05 0 2.83L4 21.41c.39.39.9.59 1.41.59.51 0 1.02-.2 1.41-.59l7.78-7.78 2.81-2.81c.8-.78.8-2.07 0-2.86zM5.41 20L4 18.59l7.72-7.72 1.47 1.35L5.41 20z\"/>\n",
              "  </svg>\n",
              "      </button>\n",
              "      \n",
              "  <style>\n",
              "    .colab-df-container {\n",
              "      display:flex;\n",
              "      flex-wrap:wrap;\n",
              "      gap: 12px;\n",
              "    }\n",
              "\n",
              "    .colab-df-convert {\n",
              "      background-color: #E8F0FE;\n",
              "      border: none;\n",
              "      border-radius: 50%;\n",
              "      cursor: pointer;\n",
              "      display: none;\n",
              "      fill: #1967D2;\n",
              "      height: 32px;\n",
              "      padding: 0 0 0 0;\n",
              "      width: 32px;\n",
              "    }\n",
              "\n",
              "    .colab-df-convert:hover {\n",
              "      background-color: #E2EBFA;\n",
              "      box-shadow: 0px 1px 2px rgba(60, 64, 67, 0.3), 0px 1px 3px 1px rgba(60, 64, 67, 0.15);\n",
              "      fill: #174EA6;\n",
              "    }\n",
              "\n",
              "    [theme=dark] .colab-df-convert {\n",
              "      background-color: #3B4455;\n",
              "      fill: #D2E3FC;\n",
              "    }\n",
              "\n",
              "    [theme=dark] .colab-df-convert:hover {\n",
              "      background-color: #434B5C;\n",
              "      box-shadow: 0px 1px 3px 1px rgba(0, 0, 0, 0.15);\n",
              "      filter: drop-shadow(0px 1px 2px rgba(0, 0, 0, 0.3));\n",
              "      fill: #FFFFFF;\n",
              "    }\n",
              "  </style>\n",
              "\n",
              "      <script>\n",
              "        const buttonEl =\n",
              "          document.querySelector('#df-896840e9-141a-49a1-a7c8-579a0c519d29 button.colab-df-convert');\n",
              "        buttonEl.style.display =\n",
              "          google.colab.kernel.accessAllowed ? 'block' : 'none';\n",
              "\n",
              "        async function convertToInteractive(key) {\n",
              "          const element = document.querySelector('#df-896840e9-141a-49a1-a7c8-579a0c519d29');\n",
              "          const dataTable =\n",
              "            await google.colab.kernel.invokeFunction('convertToInteractive',\n",
              "                                                     [key], {});\n",
              "          if (!dataTable) return;\n",
              "\n",
              "          const docLinkHtml = 'Like what you see? Visit the ' +\n",
              "            '<a target=\"_blank\" href=https://colab.research.google.com/notebooks/data_table.ipynb>data table notebook</a>'\n",
              "            + ' to learn more about interactive tables.';\n",
              "          element.innerHTML = '';\n",
              "          dataTable['output_type'] = 'display_data';\n",
              "          await google.colab.output.renderOutput(dataTable, element);\n",
              "          const docLink = document.createElement('div');\n",
              "          docLink.innerHTML = docLinkHtml;\n",
              "          element.appendChild(docLink);\n",
              "        }\n",
              "      </script>\n",
              "    </div>\n",
              "  </div>\n",
              "  "
            ]
          },
          "metadata": {},
          "execution_count": 48
        }
      ]
    },
    {
      "cell_type": "code",
      "source": [
        "from sklearn.feature_extraction.text import CountVectorizer\n",
        "cv = CountVectorizer()\n",
        "x1 = cv.fit_transform(text['text'])\n",
        "x1.shape"
      ],
      "metadata": {
        "id": "wHhyvWONPVCc",
        "colab": {
          "base_uri": "https://localhost:8080/"
        },
        "outputId": "6dbf9194-7932-4be5-e70c-ad9facd4fbfe"
      },
      "execution_count": 49,
      "outputs": [
        {
          "output_type": "execute_result",
          "data": {
            "text/plain": [
              "(7811, 736384)"
            ]
          },
          "metadata": {},
          "execution_count": 49
        }
      ]
    },
    {
      "cell_type": "code",
      "source": [
        "x1"
      ],
      "metadata": {
        "id": "G02kop_tPnjL",
        "colab": {
          "base_uri": "https://localhost:8080/"
        },
        "outputId": "b8acc93c-1243-469b-a7c4-c3b7dd1ad026"
      },
      "execution_count": 50,
      "outputs": [
        {
          "output_type": "execute_result",
          "data": {
            "text/plain": [
              "<7811x736384 sparse matrix of type '<class 'numpy.int64'>'\n",
              "\twith 4425728 stored elements in Compressed Sparse Row format>"
            ]
          },
          "metadata": {},
          "execution_count": 50
        }
      ]
    },
    {
      "cell_type": "code",
      "source": [
        "from keras.utils import np_utils\n",
        "npy = np_utils.to_categorical(y)\n",
        "print(npy[:5])"
      ],
      "metadata": {
        "id": "RJmyVxxIPqvg",
        "colab": {
          "base_uri": "https://localhost:8080/"
        },
        "outputId": "c37aed17-33fd-4448-95df-7551b9897bee"
      },
      "execution_count": 51,
      "outputs": [
        {
          "output_type": "stream",
          "name": "stdout",
          "text": [
            "[[0. 0. 0. 0. 0. 0. 0. 0. 0. 0. 1. 0. 0. 0. 0. 0.]\n",
            " [0. 0. 0. 0. 0. 0. 0. 0. 0. 0. 1. 0. 0. 0. 0. 0.]\n",
            " [0. 0. 0. 0. 0. 0. 0. 0. 0. 0. 1. 0. 0. 0. 0. 0.]\n",
            " [0. 0. 0. 0. 0. 0. 0. 0. 0. 0. 1. 0. 0. 0. 0. 0.]\n",
            " [0. 0. 0. 0. 0. 0. 0. 0. 0. 0. 1. 0. 0. 0. 0. 0.]]\n"
          ]
        }
      ]
    },
    {
      "cell_type": "code",
      "source": [
        "from sklearn.model_selection import train_test_split\n",
        "x_train, x_test, y_train, y_test= train_test_split(x1, npy, test_size=.25, random_state=1)"
      ],
      "metadata": {
        "id": "YY9ND8qAQSz-"
      },
      "execution_count": 52,
      "outputs": []
    },
    {
      "cell_type": "code",
      "source": [
        "print(x_train.shape)\n",
        "print(x_test.shape)\n",
        "print(y_train.shape)\n",
        "print(y_test.shape)"
      ],
      "metadata": {
        "id": "WhxWBd_aQnz8",
        "colab": {
          "base_uri": "https://localhost:8080/"
        },
        "outputId": "6b37f4d3-bf8b-4ba8-8475-3fc30785bb72"
      },
      "execution_count": 53,
      "outputs": [
        {
          "output_type": "stream",
          "name": "stdout",
          "text": [
            "(5858, 736384)\n",
            "(1953, 736384)\n",
            "(5858, 16)\n",
            "(1953, 16)\n"
          ]
        }
      ]
    },
    {
      "cell_type": "code",
      "source": [
        "from sklearn.preprocessing import StandardScaler\n",
        "sc = StandardScaler(with_mean=False)\n",
        "x_train= sc.fit_transform(x_train)\n",
        "x_test = sc.transform(x_test)"
      ],
      "metadata": {
        "id": "P-fw5I-6Q1Fs"
      },
      "execution_count": 54,
      "outputs": []
    },
    {
      "cell_type": "code",
      "source": [
        "print(x_train.shape)\n",
        "print(x_test.shape)\n",
        "print(y_train.shape)\n",
        "print(y_test.shape)"
      ],
      "metadata": {
        "id": "I_WxkEpTRMg1",
        "colab": {
          "base_uri": "https://localhost:8080/"
        },
        "outputId": "a6813513-de1e-4daa-bafe-b9a56dffbe8f"
      },
      "execution_count": 55,
      "outputs": [
        {
          "output_type": "stream",
          "name": "stdout",
          "text": [
            "(5858, 736384)\n",
            "(1953, 736384)\n",
            "(5858, 16)\n",
            "(1953, 16)\n"
          ]
        }
      ]
    },
    {
      "cell_type": "code",
      "source": [
        "import tensorflow as tf\n",
        "from tensorflow import keras\n",
        "from keras.models import Sequential\n",
        "from keras.layers import Dense, Activation, Dropout\n",
        "from keras.optimizers import Adam\n",
        "from keras.metrics import categorical_crossentropy"
      ],
      "metadata": {
        "id": "ey_l_gyOROlc"
      },
      "execution_count": 56,
      "outputs": []
    },
    {
      "cell_type": "code",
      "source": [
        "model = Sequential()\n",
        "model.add(Dense(units=160, activation ='relu', input_dim=736384))\n",
        "model.add(Dropout(0.1))\n",
        "model.add(Dense(units =16, activation ='relu'))\n",
        "model.add(Dropout(0.1))\n",
        "model.add(Dense(units = 16, activation ='sigmoid'))"
      ],
      "metadata": {
        "id": "pL-hEjxCRnYQ"
      },
      "execution_count": 57,
      "outputs": []
    },
    {
      "cell_type": "code",
      "source": [
        "model.compile(optimizer='Adam', loss='categorical_crossentropy', metrics=['accuracy'])"
      ],
      "metadata": {
        "id": "j_R-AYNXSSkf"
      },
      "execution_count": 58,
      "outputs": []
    },
    {
      "cell_type": "code",
      "source": [
        "model.summary()"
      ],
      "metadata": {
        "id": "DZD617b2SjyT",
        "colab": {
          "base_uri": "https://localhost:8080/"
        },
        "outputId": "38fb3b91-2ea4-4275-c770-2f35b4a261bf"
      },
      "execution_count": 59,
      "outputs": [
        {
          "output_type": "stream",
          "name": "stdout",
          "text": [
            "Model: \"sequential\"\n",
            "_________________________________________________________________\n",
            " Layer (type)                Output Shape              Param #   \n",
            "=================================================================\n",
            " dense (Dense)               (None, 160)               117821600 \n",
            "                                                                 \n",
            " dropout (Dropout)           (None, 160)               0         \n",
            "                                                                 \n",
            " dense_1 (Dense)             (None, 16)                2576      \n",
            "                                                                 \n",
            " dropout_1 (Dropout)         (None, 16)                0         \n",
            "                                                                 \n",
            " dense_2 (Dense)             (None, 16)                272       \n",
            "                                                                 \n",
            "=================================================================\n",
            "Total params: 117,824,448\n",
            "Trainable params: 117,824,448\n",
            "Non-trainable params: 0\n",
            "_________________________________________________________________\n"
          ]
        }
      ]
    },
    {
      "cell_type": "code",
      "source": [
        "model.fit(x_train, y_train, epochs =1, verbose =1)"
      ],
      "metadata": {
        "id": "FoJb7FOdSopT",
        "colab": {
          "base_uri": "https://localhost:8080/"
        },
        "outputId": "ce278405-c524-4fb7-d1d5-9b0b88841851"
      },
      "execution_count": 60,
      "outputs": [
        {
          "output_type": "stream",
          "name": "stdout",
          "text": [
            "184/184 [==============================] - 674s 4s/step - loss: 2.7840 - accuracy: 0.1354\n"
          ]
        },
        {
          "output_type": "execute_result",
          "data": {
            "text/plain": [
              "<keras.callbacks.History at 0x7f13c12af850>"
            ]
          },
          "metadata": {},
          "execution_count": 60
        }
      ]
    },
    {
      "cell_type": "code",
      "source": [
        "import numpy as np\n",
        "import pandas as pd\n",
        "df = pd.read_csv('/content/5 April to 15 April and count....twitter_MBTI.csv')\n",
        "df.head()\n",
        "y=df['label']"
      ],
      "metadata": {
        "id": "RmLjJc1wdrLQ"
      },
      "execution_count": 61,
      "outputs": []
    },
    {
      "cell_type": "code",
      "source": [
        "from sklearn.feature_extraction.text import CountVectorizer\n",
        "from nltk.tokenize import RegexpTokenizer\n",
        "token = RegexpTokenizer(r'[a-zA-Z0-9]+')\n",
        "cv = CountVectorizer(lowercase=True,stop_words='english',ngram_range=(1,1),tokenizer=None)\n",
        "x = cv.fit_transform(text['text'])\n",
        "x"
      ],
      "metadata": {
        "colab": {
          "base_uri": "https://localhost:8080/"
        },
        "id": "ZI8kfYNDEtVy",
        "outputId": "3e96ac9d-1e66-4216-b541-1e8917190297"
      },
      "execution_count": 62,
      "outputs": [
        {
          "output_type": "execute_result",
          "data": {
            "text/plain": [
              "<7811x736076 sparse matrix of type '<class 'numpy.int64'>'\n",
              "\twith 3612871 stored elements in Compressed Sparse Row format>"
            ]
          },
          "metadata": {},
          "execution_count": 62
        }
      ]
    },
    {
      "cell_type": "code",
      "source": [
        "from sklearn.preprocessing import LabelEncoder\n",
        "lb = LabelEncoder()\n",
        "y=lb.fit_transform(df['label'])\n",
        "y"
      ],
      "metadata": {
        "id": "xd8KhOF8U_q3",
        "colab": {
          "base_uri": "https://localhost:8080/"
        },
        "outputId": "0bbb5619-4397-40e0-dd29-ce5b0f215421"
      },
      "execution_count": 63,
      "outputs": [
        {
          "output_type": "execute_result",
          "data": {
            "text/plain": [
              "array([10, 10, 10, ...,  3,  8, 15])"
            ]
          },
          "metadata": {},
          "execution_count": 63
        }
      ]
    },
    {
      "cell_type": "code",
      "source": [
        "from sklearn.model_selection import train_test_split\n",
        "x_train, x_test, y_train, y_test= train_test_split(x, y, test_size=.25)"
      ],
      "metadata": {
        "id": "l2vzdziPeK42"
      },
      "execution_count": 64,
      "outputs": []
    },
    {
      "cell_type": "code",
      "source": [
        "print(x_train.shape)\n",
        "print(x_test.shape)\n",
        "print(y_train.shape)\n",
        "print(y_test.shape)"
      ],
      "metadata": {
        "id": "0dzJyxRIdZic",
        "colab": {
          "base_uri": "https://localhost:8080/"
        },
        "outputId": "b8878b9a-9fd7-41d2-f7d3-382a5cae2204"
      },
      "execution_count": 65,
      "outputs": [
        {
          "output_type": "stream",
          "name": "stdout",
          "text": [
            "(5858, 736076)\n",
            "(1953, 736076)\n",
            "(5858,)\n",
            "(1953,)\n"
          ]
        }
      ]
    },
    {
      "cell_type": "markdown",
      "source": [
        "**Implementing Model**\n",
        "\n",
        "*14. Multinomial NB*"
      ],
      "metadata": {
        "id": "6iUsoNJ-nnSL"
      }
    },
    {
      "cell_type": "code",
      "source": [
        "from sklearn.naive_bayes import MultinomialNB\n",
        "from sklearn import metrics\n",
        "nb = MultinomialNB().fit(x_train, y_train)\n",
        "nb"
      ],
      "metadata": {
        "colab": {
          "base_uri": "https://localhost:8080/",
          "height": 75
        },
        "id": "hxnLaO6aHasX",
        "outputId": "1bb90172-d00b-4dda-bb8b-aa7c058ea2b0"
      },
      "execution_count": 68,
      "outputs": [
        {
          "output_type": "execute_result",
          "data": {
            "text/plain": [
              "MultinomialNB()"
            ],
            "text/html": [
              "<style>#sk-container-id-1 {color: black;background-color: white;}#sk-container-id-1 pre{padding: 0;}#sk-container-id-1 div.sk-toggleable {background-color: white;}#sk-container-id-1 label.sk-toggleable__label {cursor: pointer;display: block;width: 100%;margin-bottom: 0;padding: 0.3em;box-sizing: border-box;text-align: center;}#sk-container-id-1 label.sk-toggleable__label-arrow:before {content: \"▸\";float: left;margin-right: 0.25em;color: #696969;}#sk-container-id-1 label.sk-toggleable__label-arrow:hover:before {color: black;}#sk-container-id-1 div.sk-estimator:hover label.sk-toggleable__label-arrow:before {color: black;}#sk-container-id-1 div.sk-toggleable__content {max-height: 0;max-width: 0;overflow: hidden;text-align: left;background-color: #f0f8ff;}#sk-container-id-1 div.sk-toggleable__content pre {margin: 0.2em;color: black;border-radius: 0.25em;background-color: #f0f8ff;}#sk-container-id-1 input.sk-toggleable__control:checked~div.sk-toggleable__content {max-height: 200px;max-width: 100%;overflow: auto;}#sk-container-id-1 input.sk-toggleable__control:checked~label.sk-toggleable__label-arrow:before {content: \"▾\";}#sk-container-id-1 div.sk-estimator input.sk-toggleable__control:checked~label.sk-toggleable__label {background-color: #d4ebff;}#sk-container-id-1 div.sk-label input.sk-toggleable__control:checked~label.sk-toggleable__label {background-color: #d4ebff;}#sk-container-id-1 input.sk-hidden--visually {border: 0;clip: rect(1px 1px 1px 1px);clip: rect(1px, 1px, 1px, 1px);height: 1px;margin: -1px;overflow: hidden;padding: 0;position: absolute;width: 1px;}#sk-container-id-1 div.sk-estimator {font-family: monospace;background-color: #f0f8ff;border: 1px dotted black;border-radius: 0.25em;box-sizing: border-box;margin-bottom: 0.5em;}#sk-container-id-1 div.sk-estimator:hover {background-color: #d4ebff;}#sk-container-id-1 div.sk-parallel-item::after {content: \"\";width: 100%;border-bottom: 1px solid gray;flex-grow: 1;}#sk-container-id-1 div.sk-label:hover label.sk-toggleable__label {background-color: #d4ebff;}#sk-container-id-1 div.sk-serial::before {content: \"\";position: absolute;border-left: 1px solid gray;box-sizing: border-box;top: 0;bottom: 0;left: 50%;z-index: 0;}#sk-container-id-1 div.sk-serial {display: flex;flex-direction: column;align-items: center;background-color: white;padding-right: 0.2em;padding-left: 0.2em;position: relative;}#sk-container-id-1 div.sk-item {position: relative;z-index: 1;}#sk-container-id-1 div.sk-parallel {display: flex;align-items: stretch;justify-content: center;background-color: white;position: relative;}#sk-container-id-1 div.sk-item::before, #sk-container-id-1 div.sk-parallel-item::before {content: \"\";position: absolute;border-left: 1px solid gray;box-sizing: border-box;top: 0;bottom: 0;left: 50%;z-index: -1;}#sk-container-id-1 div.sk-parallel-item {display: flex;flex-direction: column;z-index: 1;position: relative;background-color: white;}#sk-container-id-1 div.sk-parallel-item:first-child::after {align-self: flex-end;width: 50%;}#sk-container-id-1 div.sk-parallel-item:last-child::after {align-self: flex-start;width: 50%;}#sk-container-id-1 div.sk-parallel-item:only-child::after {width: 0;}#sk-container-id-1 div.sk-dashed-wrapped {border: 1px dashed gray;margin: 0 0.4em 0.5em 0.4em;box-sizing: border-box;padding-bottom: 0.4em;background-color: white;}#sk-container-id-1 div.sk-label label {font-family: monospace;font-weight: bold;display: inline-block;line-height: 1.2em;}#sk-container-id-1 div.sk-label-container {text-align: center;}#sk-container-id-1 div.sk-container {/* jupyter's `normalize.less` sets `[hidden] { display: none; }` but bootstrap.min.css set `[hidden] { display: none !important; }` so we also need the `!important` here to be able to override the default hidden behavior on the sphinx rendered scikit-learn.org. See: https://github.com/scikit-learn/scikit-learn/issues/21755 */display: inline-block !important;position: relative;}#sk-container-id-1 div.sk-text-repr-fallback {display: none;}</style><div id=\"sk-container-id-1\" class=\"sk-top-container\"><div class=\"sk-text-repr-fallback\"><pre>MultinomialNB()</pre><b>In a Jupyter environment, please rerun this cell to show the HTML representation or trust the notebook. <br />On GitHub, the HTML representation is unable to render, please try loading this page with nbviewer.org.</b></div><div class=\"sk-container\" hidden><div class=\"sk-item\"><div class=\"sk-estimator sk-toggleable\"><input class=\"sk-toggleable__control sk-hidden--visually\" id=\"sk-estimator-id-1\" type=\"checkbox\" checked><label for=\"sk-estimator-id-1\" class=\"sk-toggleable__label sk-toggleable__label-arrow\">MultinomialNB</label><div class=\"sk-toggleable__content\"><pre>MultinomialNB()</pre></div></div></div></div></div>"
            ]
          },
          "metadata": {},
          "execution_count": 68
        }
      ]
    },
    {
      "cell_type": "code",
      "source": [
        "nb.score(x_train,y_train)"
      ],
      "metadata": {
        "colab": {
          "base_uri": "https://localhost:8080/"
        },
        "id": "3HztH7SCHtNp",
        "outputId": "224dfac9-9257-458a-8661-4835a53a9ff4"
      },
      "execution_count": 69,
      "outputs": [
        {
          "output_type": "execute_result",
          "data": {
            "text/plain": [
              "0.5773301468077843"
            ]
          },
          "metadata": {},
          "execution_count": 69
        }
      ]
    },
    {
      "cell_type": "code",
      "source": [
        "nb.score(x_test,y_test)"
      ],
      "metadata": {
        "colab": {
          "base_uri": "https://localhost:8080/"
        },
        "id": "kXPco03PHxaY",
        "outputId": "abd36b09-2bf4-4fcd-fb02-cd57eecba840"
      },
      "execution_count": 70,
      "outputs": [
        {
          "output_type": "execute_result",
          "data": {
            "text/plain": [
              "0.20378904249871993"
            ]
          },
          "metadata": {},
          "execution_count": 70
        }
      ]
    },
    {
      "cell_type": "code",
      "source": [
        "#prediction\n",
        "y_pred_nb = nb.predict(x_test)\n",
        "print(len(y_pred_nb))\n",
        "y_pred_nb"
      ],
      "metadata": {
        "colab": {
          "base_uri": "https://localhost:8080/"
        },
        "id": "E5hvtjadH3Td",
        "outputId": "96f15309-0145-415f-9375-c571cf873371"
      },
      "execution_count": 71,
      "outputs": [
        {
          "output_type": "stream",
          "name": "stdout",
          "text": [
            "1953\n"
          ]
        },
        {
          "output_type": "execute_result",
          "data": {
            "text/plain": [
              "array([9, 9, 9, ..., 9, 9, 9])"
            ]
          },
          "metadata": {},
          "execution_count": 71
        }
      ]
    },
    {
      "cell_type": "code",
      "source": [
        "from sklearn.metrics import classification_report, confusion_matrix, accuracy_score"
      ],
      "metadata": {
        "id": "mPrlnKYUH8F7"
      },
      "execution_count": 72,
      "outputs": []
    },
    {
      "cell_type": "code",
      "source": [
        "print(confusion_matrix(y_test, y_pred_nb))\n",
        "print(classification_report(y_test, y_pred_nb))\n",
        "print(accuracy_score(y_test, y_pred_nb))"
      ],
      "metadata": {
        "colab": {
          "base_uri": "https://localhost:8080/"
        },
        "id": "bhuEDh7KH-j-",
        "outputId": "8547f65c-447c-48f2-8190-aae0d64dd201"
      },
      "execution_count": 73,
      "outputs": [
        {
          "output_type": "stream",
          "name": "stdout",
          "text": [
            "[[  5   0   0   0   0   0   0   0  24  98   1   0   0   0   0   0]\n",
            " [  0   4   0   0   0   0   0   0  27 151   0   0   0   0   0   0]\n",
            " [  0   0   0   0   0   0   0   0  17  53   1   0   0   0   0   0]\n",
            " [  0   0   1   2   0   0   0   0  15 123   7   0   0   0   0   0]\n",
            " [  0   0   0   0   1   0   0   0   6  17   0   0   0   0   0   0]\n",
            " [  0   0   0   0   0   0   0   0   2  39   0   0   0   0   0   0]\n",
            " [  0   0   0   0   0   0   0   0   3  16   0   0   0   0   0   0]\n",
            " [  0   0   0   0   0   0   0   0   1  20   0   0   0   0   0   0]\n",
            " [  0   1   0   0   0   0   0   0  93 174   5   2   0   0   0   0]\n",
            " [  2   1   0   0   1   0   0   0  30 260   0   0   0   0   0   0]\n",
            " [  0   1   0   0   0   0   0   0  49 124  14   0   0   0   0   0]\n",
            " [  0   2   0   0   0   0   0   0  22 167   5  14   0   0   0   0]\n",
            " [  0   0   0   0   0   0   0   0  19  75   2   0   1   0   0   0]\n",
            " [  0   0   0   0   0   0   0   0   9 103   0   0   0   0   0   0]\n",
            " [  0   0   0   0   0   0   0   0  12  48   5   0   0   0   2   0]\n",
            " [  0   0   0   0   0   0   0   0   7  66   1   0   0   0   0   2]]\n",
            "              precision    recall  f1-score   support\n",
            "\n",
            "           0       0.71      0.04      0.07       128\n",
            "           1       0.44      0.02      0.04       182\n",
            "           2       0.00      0.00      0.00        71\n",
            "           3       1.00      0.01      0.03       148\n",
            "           4       0.50      0.04      0.08        24\n",
            "           5       0.00      0.00      0.00        41\n",
            "           6       0.00      0.00      0.00        19\n",
            "           7       0.00      0.00      0.00        21\n",
            "           8       0.28      0.34      0.30       275\n",
            "           9       0.17      0.88      0.28       294\n",
            "          10       0.34      0.07      0.12       188\n",
            "          11       0.88      0.07      0.12       210\n",
            "          12       1.00      0.01      0.02        97\n",
            "          13       0.00      0.00      0.00       112\n",
            "          14       1.00      0.03      0.06        67\n",
            "          15       1.00      0.03      0.05        76\n",
            "\n",
            "    accuracy                           0.20      1953\n",
            "   macro avg       0.46      0.10      0.07      1953\n",
            "weighted avg       0.48      0.20      0.13      1953\n",
            "\n",
            "0.20378904249871993\n"
          ]
        },
        {
          "output_type": "stream",
          "name": "stderr",
          "text": [
            "/usr/local/lib/python3.9/dist-packages/sklearn/metrics/_classification.py:1344: UndefinedMetricWarning: Precision and F-score are ill-defined and being set to 0.0 in labels with no predicted samples. Use `zero_division` parameter to control this behavior.\n",
            "  _warn_prf(average, modifier, msg_start, len(result))\n",
            "/usr/local/lib/python3.9/dist-packages/sklearn/metrics/_classification.py:1344: UndefinedMetricWarning: Precision and F-score are ill-defined and being set to 0.0 in labels with no predicted samples. Use `zero_division` parameter to control this behavior.\n",
            "  _warn_prf(average, modifier, msg_start, len(result))\n",
            "/usr/local/lib/python3.9/dist-packages/sklearn/metrics/_classification.py:1344: UndefinedMetricWarning: Precision and F-score are ill-defined and being set to 0.0 in labels with no predicted samples. Use `zero_division` parameter to control this behavior.\n",
            "  _warn_prf(average, modifier, msg_start, len(result))\n"
          ]
        }
      ]
    }
  ]
}